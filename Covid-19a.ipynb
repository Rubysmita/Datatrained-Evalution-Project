{
 "cells": [
  {
   "cell_type": "code",
   "execution_count": 1,
   "metadata": {},
   "outputs": [],
   "source": [
    "#Importing warning library to avoid any warnings\n",
    "import warnings\n",
    "warnings.filterwarnings('ignore')"
   ]
  },
  {
   "cell_type": "markdown",
   "metadata": {},
   "source": [
    "# Loading the dataset"
   ]
  },
  {
   "cell_type": "code",
   "execution_count": 2,
   "metadata": {},
   "outputs": [
    {
     "data": {
      "text/html": [
       "<div>\n",
       "<style scoped>\n",
       "    .dataframe tbody tr th:only-of-type {\n",
       "        vertical-align: middle;\n",
       "    }\n",
       "\n",
       "    .dataframe tbody tr th {\n",
       "        vertical-align: top;\n",
       "    }\n",
       "\n",
       "    .dataframe thead th {\n",
       "        text-align: right;\n",
       "    }\n",
       "</style>\n",
       "<table border=\"1\" class=\"dataframe\">\n",
       "  <thead>\n",
       "    <tr style=\"text-align: right;\">\n",
       "      <th></th>\n",
       "      <th>Date</th>\n",
       "      <th>Country</th>\n",
       "      <th>Confirmed</th>\n",
       "      <th>Recovered</th>\n",
       "      <th>Deaths</th>\n",
       "    </tr>\n",
       "  </thead>\n",
       "  <tbody>\n",
       "    <tr>\n",
       "      <th>0</th>\n",
       "      <td>2020-01-22</td>\n",
       "      <td>Afghanistan</td>\n",
       "      <td>0</td>\n",
       "      <td>0</td>\n",
       "      <td>0</td>\n",
       "    </tr>\n",
       "    <tr>\n",
       "      <th>1</th>\n",
       "      <td>2020-01-22</td>\n",
       "      <td>Albania</td>\n",
       "      <td>0</td>\n",
       "      <td>0</td>\n",
       "      <td>0</td>\n",
       "    </tr>\n",
       "    <tr>\n",
       "      <th>2</th>\n",
       "      <td>2020-01-22</td>\n",
       "      <td>Algeria</td>\n",
       "      <td>0</td>\n",
       "      <td>0</td>\n",
       "      <td>0</td>\n",
       "    </tr>\n",
       "    <tr>\n",
       "      <th>3</th>\n",
       "      <td>2020-01-22</td>\n",
       "      <td>Andorra</td>\n",
       "      <td>0</td>\n",
       "      <td>0</td>\n",
       "      <td>0</td>\n",
       "    </tr>\n",
       "    <tr>\n",
       "      <th>4</th>\n",
       "      <td>2020-01-22</td>\n",
       "      <td>Angola</td>\n",
       "      <td>0</td>\n",
       "      <td>0</td>\n",
       "      <td>0</td>\n",
       "    </tr>\n",
       "  </tbody>\n",
       "</table>\n",
       "</div>"
      ],
      "text/plain": [
       "         Date      Country  Confirmed  Recovered  Deaths\n",
       "0  2020-01-22  Afghanistan          0          0       0\n",
       "1  2020-01-22      Albania          0          0       0\n",
       "2  2020-01-22      Algeria          0          0       0\n",
       "3  2020-01-22      Andorra          0          0       0\n",
       "4  2020-01-22       Angola          0          0       0"
      ]
     },
     "execution_count": 2,
     "metadata": {},
     "output_type": "execute_result"
    }
   ],
   "source": [
    "import pandas as pd\n",
    "df=pd.read_csv('D:/Python file/Practice Project Datasets/Week2/covid19.csv')  #Path location of the dataset\n",
    "df.head()  #Checking out the top 5 rows of the dataset"
   ]
  },
  {
   "cell_type": "code",
   "execution_count": 3,
   "metadata": {},
   "outputs": [
    {
     "data": {
      "text/plain": [
       "(23688, 5)"
      ]
     },
     "execution_count": 3,
     "metadata": {},
     "output_type": "execute_result"
    }
   ],
   "source": [
    "df.shape    #Checking the dimensions of the dataset"
   ]
  },
  {
   "cell_type": "code",
   "execution_count": 4,
   "metadata": {},
   "outputs": [
    {
     "data": {
      "text/plain": [
       "Index(['Date', 'Country', 'Confirmed', 'Recovered', 'Deaths'], dtype='object')"
      ]
     },
     "execution_count": 4,
     "metadata": {},
     "output_type": "execute_result"
    }
   ],
   "source": [
    "df.columns   #Checking out the columns of the dataset"
   ]
  },
  {
   "cell_type": "markdown",
   "metadata": {},
   "source": [
    "# Dataset Description"
   ]
  },
  {
   "cell_type": "markdown",
   "metadata": {},
   "source": [
    "-> Coronavirus disease 2019 (COVID-19) dataset lists the columns like confirmed cases, reported deaths, and reported recoveries.    The Data is disaggregated by country (also with sub regions).\n",
    "\n",
    "-> On March 11, 2020, the World Health Organization (WHO) declared it a pandemic, pointing to the over 118,000 cases of the        coronavirus illness in over 110 countries and territories around the world at the time.\n",
    "\n",
    "->This dataset includes data for tracking the number of people affected by COVID-19 worldwide, including the columns like:\n",
    "\n",
    "1.Date - Date of the virus recorded on the particular place\n",
    "\n",
    "2.Country - Countries where the virus has been affected\n",
    "\n",
    "3.Confirmed - Confirmed tested cases of Coronavirus infection\n",
    "\n",
    "4.Recovered - the number of people who have reportedly recovered from it\n",
    "\n",
    "5.Deaths - the number of people who have reportedly died while sick with Coronavirus\n",
    "\n",
    "-> The total dataset has 23688 datas from various countries and regions.\n",
    "\n",
    "-> Our main aim is to predict the number of deaths occured in each place from the given datas. As the given data is in              continuous form, we need to use regression analysis."
   ]
  },
  {
   "cell_type": "code",
   "execution_count": 5,
   "metadata": {},
   "outputs": [
    {
     "name": "stdout",
     "output_type": "stream",
     "text": [
      "<class 'pandas.core.frame.DataFrame'>\n",
      "RangeIndex: 23688 entries, 0 to 23687\n",
      "Data columns (total 5 columns):\n",
      " #   Column     Non-Null Count  Dtype \n",
      "---  ------     --------------  ----- \n",
      " 0   Date       23688 non-null  object\n",
      " 1   Country    23688 non-null  object\n",
      " 2   Confirmed  23688 non-null  int64 \n",
      " 3   Recovered  23688 non-null  int64 \n",
      " 4   Deaths     23688 non-null  int64 \n",
      "dtypes: int64(3), object(2)\n",
      "memory usage: 925.4+ KB\n"
     ]
    }
   ],
   "source": [
    "df.info()    #Checking the datatype of all the columns present"
   ]
  },
  {
   "cell_type": "markdown",
   "metadata": {},
   "source": [
    "We need to convert Date column into datetime format and it can be done using parse_dates"
   ]
  },
  {
   "cell_type": "code",
   "execution_count": 6,
   "metadata": {},
   "outputs": [
    {
     "data": {
      "text/html": [
       "<div>\n",
       "<style scoped>\n",
       "    .dataframe tbody tr th:only-of-type {\n",
       "        vertical-align: middle;\n",
       "    }\n",
       "\n",
       "    .dataframe tbody tr th {\n",
       "        vertical-align: top;\n",
       "    }\n",
       "\n",
       "    .dataframe thead th {\n",
       "        text-align: right;\n",
       "    }\n",
       "</style>\n",
       "<table border=\"1\" class=\"dataframe\">\n",
       "  <thead>\n",
       "    <tr style=\"text-align: right;\">\n",
       "      <th></th>\n",
       "      <th>Date</th>\n",
       "      <th>Country</th>\n",
       "      <th>Confirmed</th>\n",
       "      <th>Recovered</th>\n",
       "      <th>Deaths</th>\n",
       "    </tr>\n",
       "  </thead>\n",
       "  <tbody>\n",
       "    <tr>\n",
       "      <th>0</th>\n",
       "      <td>2020-01-22</td>\n",
       "      <td>Afghanistan</td>\n",
       "      <td>0</td>\n",
       "      <td>0</td>\n",
       "      <td>0</td>\n",
       "    </tr>\n",
       "    <tr>\n",
       "      <th>1</th>\n",
       "      <td>2020-01-22</td>\n",
       "      <td>Albania</td>\n",
       "      <td>0</td>\n",
       "      <td>0</td>\n",
       "      <td>0</td>\n",
       "    </tr>\n",
       "    <tr>\n",
       "      <th>2</th>\n",
       "      <td>2020-01-22</td>\n",
       "      <td>Algeria</td>\n",
       "      <td>0</td>\n",
       "      <td>0</td>\n",
       "      <td>0</td>\n",
       "    </tr>\n",
       "    <tr>\n",
       "      <th>3</th>\n",
       "      <td>2020-01-22</td>\n",
       "      <td>Andorra</td>\n",
       "      <td>0</td>\n",
       "      <td>0</td>\n",
       "      <td>0</td>\n",
       "    </tr>\n",
       "    <tr>\n",
       "      <th>4</th>\n",
       "      <td>2020-01-22</td>\n",
       "      <td>Angola</td>\n",
       "      <td>0</td>\n",
       "      <td>0</td>\n",
       "      <td>0</td>\n",
       "    </tr>\n",
       "  </tbody>\n",
       "</table>\n",
       "</div>"
      ],
      "text/plain": [
       "        Date      Country  Confirmed  Recovered  Deaths\n",
       "0 2020-01-22  Afghanistan          0          0       0\n",
       "1 2020-01-22      Albania          0          0       0\n",
       "2 2020-01-22      Algeria          0          0       0\n",
       "3 2020-01-22      Andorra          0          0       0\n",
       "4 2020-01-22       Angola          0          0       0"
      ]
     },
     "execution_count": 6,
     "metadata": {},
     "output_type": "execute_result"
    }
   ],
   "source": [
    "df=pd.read_csv('D:/Python file/Practice Project Datasets/Week2/covid19.csv',parse_dates=['Date'])\n",
    "df.head()"
   ]
  },
  {
   "cell_type": "code",
   "execution_count": 7,
   "metadata": {},
   "outputs": [
    {
     "name": "stdout",
     "output_type": "stream",
     "text": [
      "<class 'pandas.core.frame.DataFrame'>\n",
      "RangeIndex: 23688 entries, 0 to 23687\n",
      "Data columns (total 5 columns):\n",
      " #   Column     Non-Null Count  Dtype         \n",
      "---  ------     --------------  -----         \n",
      " 0   Date       23688 non-null  datetime64[ns]\n",
      " 1   Country    23688 non-null  object        \n",
      " 2   Confirmed  23688 non-null  int64         \n",
      " 3   Recovered  23688 non-null  int64         \n",
      " 4   Deaths     23688 non-null  int64         \n",
      "dtypes: datetime64[ns](1), int64(3), object(1)\n",
      "memory usage: 925.4+ KB\n"
     ]
    }
   ],
   "source": [
    "df.info()  #Checking the columns after parse_dates"
   ]
  },
  {
   "cell_type": "markdown",
   "metadata": {},
   "source": [
    "We can see that Date column has been converted into datetime format"
   ]
  },
  {
   "cell_type": "code",
   "execution_count": 8,
   "metadata": {},
   "outputs": [
    {
     "data": {
      "text/plain": [
       "(23688, 5)"
      ]
     },
     "execution_count": 8,
     "metadata": {},
     "output_type": "execute_result"
    }
   ],
   "source": [
    "df.shape"
   ]
  },
  {
   "cell_type": "markdown",
   "metadata": {},
   "source": [
    "# Adding active cases column"
   ]
  },
  {
   "cell_type": "markdown",
   "metadata": {},
   "source": [
    "One of the main aspects of the covid19 data is to know about the number of active cases present. As it is not present, we can calculate manually by using the formula:\n",
    "                            \n",
    "                          Active cases= Confirmed cases - Recovered cases - Total Deaths"
   ]
  },
  {
   "cell_type": "code",
   "execution_count": 9,
   "metadata": {},
   "outputs": [
    {
     "data": {
      "text/html": [
       "<div>\n",
       "<style scoped>\n",
       "    .dataframe tbody tr th:only-of-type {\n",
       "        vertical-align: middle;\n",
       "    }\n",
       "\n",
       "    .dataframe tbody tr th {\n",
       "        vertical-align: top;\n",
       "    }\n",
       "\n",
       "    .dataframe thead th {\n",
       "        text-align: right;\n",
       "    }\n",
       "</style>\n",
       "<table border=\"1\" class=\"dataframe\">\n",
       "  <thead>\n",
       "    <tr style=\"text-align: right;\">\n",
       "      <th></th>\n",
       "      <th>Date</th>\n",
       "      <th>Country</th>\n",
       "      <th>Confirmed</th>\n",
       "      <th>Recovered</th>\n",
       "      <th>Deaths</th>\n",
       "      <th>Active_cases</th>\n",
       "    </tr>\n",
       "  </thead>\n",
       "  <tbody>\n",
       "    <tr>\n",
       "      <th>0</th>\n",
       "      <td>2020-01-22</td>\n",
       "      <td>Afghanistan</td>\n",
       "      <td>0</td>\n",
       "      <td>0</td>\n",
       "      <td>0</td>\n",
       "      <td>0</td>\n",
       "    </tr>\n",
       "    <tr>\n",
       "      <th>1</th>\n",
       "      <td>2020-01-22</td>\n",
       "      <td>Albania</td>\n",
       "      <td>0</td>\n",
       "      <td>0</td>\n",
       "      <td>0</td>\n",
       "      <td>0</td>\n",
       "    </tr>\n",
       "    <tr>\n",
       "      <th>2</th>\n",
       "      <td>2020-01-22</td>\n",
       "      <td>Algeria</td>\n",
       "      <td>0</td>\n",
       "      <td>0</td>\n",
       "      <td>0</td>\n",
       "      <td>0</td>\n",
       "    </tr>\n",
       "    <tr>\n",
       "      <th>3</th>\n",
       "      <td>2020-01-22</td>\n",
       "      <td>Andorra</td>\n",
       "      <td>0</td>\n",
       "      <td>0</td>\n",
       "      <td>0</td>\n",
       "      <td>0</td>\n",
       "    </tr>\n",
       "    <tr>\n",
       "      <th>4</th>\n",
       "      <td>2020-01-22</td>\n",
       "      <td>Angola</td>\n",
       "      <td>0</td>\n",
       "      <td>0</td>\n",
       "      <td>0</td>\n",
       "      <td>0</td>\n",
       "    </tr>\n",
       "  </tbody>\n",
       "</table>\n",
       "</div>"
      ],
      "text/plain": [
       "        Date      Country  Confirmed  Recovered  Deaths  Active_cases\n",
       "0 2020-01-22  Afghanistan          0          0       0             0\n",
       "1 2020-01-22      Albania          0          0       0             0\n",
       "2 2020-01-22      Algeria          0          0       0             0\n",
       "3 2020-01-22      Andorra          0          0       0             0\n",
       "4 2020-01-22       Angola          0          0       0             0"
      ]
     },
     "execution_count": 9,
     "metadata": {},
     "output_type": "execute_result"
    }
   ],
   "source": [
    "#Adding Active_cases column\n",
    "active_cases= df['Confirmed'] - df['Recovered'] - df['Deaths']\n",
    "df['Active_cases']= active_cases\n",
    "df.head()"
   ]
  },
  {
   "cell_type": "markdown",
   "metadata": {},
   "source": [
    "Active_cases has been added to the dataset and it is useful in analysis of deaths occured"
   ]
  },
  {
   "cell_type": "code",
   "execution_count": 10,
   "metadata": {},
   "outputs": [
    {
     "name": "stdout",
     "output_type": "stream",
     "text": [
      "<class 'pandas.core.frame.DataFrame'>\n",
      "RangeIndex: 23688 entries, 0 to 23687\n",
      "Data columns (total 6 columns):\n",
      " #   Column        Non-Null Count  Dtype         \n",
      "---  ------        --------------  -----         \n",
      " 0   Date          23688 non-null  datetime64[ns]\n",
      " 1   Country       23688 non-null  object        \n",
      " 2   Confirmed     23688 non-null  int64         \n",
      " 3   Recovered     23688 non-null  int64         \n",
      " 4   Deaths        23688 non-null  int64         \n",
      " 5   Active_cases  23688 non-null  int64         \n",
      "dtypes: datetime64[ns](1), int64(4), object(1)\n",
      "memory usage: 1.1+ MB\n"
     ]
    }
   ],
   "source": [
    "df.info()   #Checking the datatypes of column after adding new column"
   ]
  },
  {
   "cell_type": "code",
   "execution_count": 11,
   "metadata": {},
   "outputs": [
    {
     "data": {
      "text/plain": [
       "Date            0\n",
       "Country         0\n",
       "Confirmed       0\n",
       "Recovered       0\n",
       "Deaths          0\n",
       "Active_cases    0\n",
       "dtype: int64"
      ]
     },
     "execution_count": 11,
     "metadata": {},
     "output_type": "execute_result"
    }
   ],
   "source": [
    "df.isnull().sum()   #Checking for null values in the dataset"
   ]
  },
  {
   "cell_type": "markdown",
   "metadata": {},
   "source": [
    "There are no missing values in the dataset"
   ]
  },
  {
   "cell_type": "markdown",
   "metadata": {},
   "source": [
    "# Handling the dataframe"
   ]
  },
  {
   "cell_type": "markdown",
   "metadata": {},
   "source": [
    "We need to analyse the dataset according to days and months so that we can further learn about the dataset. We can split by converting into dataframes separately and it is done by using NumPy library."
   ]
  },
  {
   "cell_type": "code",
   "execution_count": 12,
   "metadata": {},
   "outputs": [
    {
     "data": {
      "text/html": [
       "<div>\n",
       "<style scoped>\n",
       "    .dataframe tbody tr th:only-of-type {\n",
       "        vertical-align: middle;\n",
       "    }\n",
       "\n",
       "    .dataframe tbody tr th {\n",
       "        vertical-align: top;\n",
       "    }\n",
       "\n",
       "    .dataframe thead th {\n",
       "        text-align: right;\n",
       "    }\n",
       "</style>\n",
       "<table border=\"1\" class=\"dataframe\">\n",
       "  <thead>\n",
       "    <tr style=\"text-align: right;\">\n",
       "      <th></th>\n",
       "      <th>month</th>\n",
       "      <th>day</th>\n",
       "      <th>year</th>\n",
       "      <th>Country</th>\n",
       "      <th>Confirmed</th>\n",
       "      <th>Recovered</th>\n",
       "      <th>Deaths</th>\n",
       "      <th>Active_cases</th>\n",
       "    </tr>\n",
       "  </thead>\n",
       "  <tbody>\n",
       "    <tr>\n",
       "      <th>0</th>\n",
       "      <td>January</td>\n",
       "      <td>Wednesday</td>\n",
       "      <td>2020</td>\n",
       "      <td>Afghanistan</td>\n",
       "      <td>0</td>\n",
       "      <td>0</td>\n",
       "      <td>0</td>\n",
       "      <td>0</td>\n",
       "    </tr>\n",
       "    <tr>\n",
       "      <th>1</th>\n",
       "      <td>January</td>\n",
       "      <td>Wednesday</td>\n",
       "      <td>2020</td>\n",
       "      <td>Albania</td>\n",
       "      <td>0</td>\n",
       "      <td>0</td>\n",
       "      <td>0</td>\n",
       "      <td>0</td>\n",
       "    </tr>\n",
       "    <tr>\n",
       "      <th>2</th>\n",
       "      <td>January</td>\n",
       "      <td>Wednesday</td>\n",
       "      <td>2020</td>\n",
       "      <td>Algeria</td>\n",
       "      <td>0</td>\n",
       "      <td>0</td>\n",
       "      <td>0</td>\n",
       "      <td>0</td>\n",
       "    </tr>\n",
       "    <tr>\n",
       "      <th>3</th>\n",
       "      <td>January</td>\n",
       "      <td>Wednesday</td>\n",
       "      <td>2020</td>\n",
       "      <td>Andorra</td>\n",
       "      <td>0</td>\n",
       "      <td>0</td>\n",
       "      <td>0</td>\n",
       "      <td>0</td>\n",
       "    </tr>\n",
       "    <tr>\n",
       "      <th>4</th>\n",
       "      <td>January</td>\n",
       "      <td>Wednesday</td>\n",
       "      <td>2020</td>\n",
       "      <td>Angola</td>\n",
       "      <td>0</td>\n",
       "      <td>0</td>\n",
       "      <td>0</td>\n",
       "      <td>0</td>\n",
       "    </tr>\n",
       "  </tbody>\n",
       "</table>\n",
       "</div>"
      ],
      "text/plain": [
       "     month        day  year      Country  Confirmed  Recovered  Deaths  \\\n",
       "0  January  Wednesday  2020  Afghanistan          0          0       0   \n",
       "1  January  Wednesday  2020      Albania          0          0       0   \n",
       "2  January  Wednesday  2020      Algeria          0          0       0   \n",
       "3  January  Wednesday  2020      Andorra          0          0       0   \n",
       "4  January  Wednesday  2020       Angola          0          0       0   \n",
       "\n",
       "   Active_cases  \n",
       "0             0  \n",
       "1             0  \n",
       "2             0  \n",
       "3             0  \n",
       "4             0  "
      ]
     },
     "execution_count": 12,
     "metadata": {},
     "output_type": "execute_result"
    }
   ],
   "source": [
    "import numpy as np\n",
    "df1=pd.DataFrame()\n",
    "df1['month']=df['Date'].dt.month_name()\n",
    "df1['day']=df['Date'].dt.day_name()\n",
    "df1['year']=df['Date'].dt.year\n",
    "df1['Country']=df['Country']\n",
    "df1['Confirmed']=df['Confirmed']\n",
    "df1['Recovered']=df['Recovered']\n",
    "df1['Deaths']=df['Deaths']\n",
    "df1['Active_cases']=df['Active_cases']\n",
    "df1.head()"
   ]
  },
  {
   "cell_type": "markdown",
   "metadata": {},
   "source": [
    "As year is the same, drop the column"
   ]
  },
  {
   "cell_type": "code",
   "execution_count": 13,
   "metadata": {},
   "outputs": [
    {
     "data": {
      "text/html": [
       "<div>\n",
       "<style scoped>\n",
       "    .dataframe tbody tr th:only-of-type {\n",
       "        vertical-align: middle;\n",
       "    }\n",
       "\n",
       "    .dataframe tbody tr th {\n",
       "        vertical-align: top;\n",
       "    }\n",
       "\n",
       "    .dataframe thead th {\n",
       "        text-align: right;\n",
       "    }\n",
       "</style>\n",
       "<table border=\"1\" class=\"dataframe\">\n",
       "  <thead>\n",
       "    <tr style=\"text-align: right;\">\n",
       "      <th></th>\n",
       "      <th>month</th>\n",
       "      <th>day</th>\n",
       "      <th>Country</th>\n",
       "      <th>Confirmed</th>\n",
       "      <th>Recovered</th>\n",
       "      <th>Deaths</th>\n",
       "      <th>Active_cases</th>\n",
       "    </tr>\n",
       "  </thead>\n",
       "  <tbody>\n",
       "    <tr>\n",
       "      <th>0</th>\n",
       "      <td>January</td>\n",
       "      <td>Wednesday</td>\n",
       "      <td>Afghanistan</td>\n",
       "      <td>0</td>\n",
       "      <td>0</td>\n",
       "      <td>0</td>\n",
       "      <td>0</td>\n",
       "    </tr>\n",
       "    <tr>\n",
       "      <th>1</th>\n",
       "      <td>January</td>\n",
       "      <td>Wednesday</td>\n",
       "      <td>Albania</td>\n",
       "      <td>0</td>\n",
       "      <td>0</td>\n",
       "      <td>0</td>\n",
       "      <td>0</td>\n",
       "    </tr>\n",
       "    <tr>\n",
       "      <th>2</th>\n",
       "      <td>January</td>\n",
       "      <td>Wednesday</td>\n",
       "      <td>Algeria</td>\n",
       "      <td>0</td>\n",
       "      <td>0</td>\n",
       "      <td>0</td>\n",
       "      <td>0</td>\n",
       "    </tr>\n",
       "    <tr>\n",
       "      <th>3</th>\n",
       "      <td>January</td>\n",
       "      <td>Wednesday</td>\n",
       "      <td>Andorra</td>\n",
       "      <td>0</td>\n",
       "      <td>0</td>\n",
       "      <td>0</td>\n",
       "      <td>0</td>\n",
       "    </tr>\n",
       "    <tr>\n",
       "      <th>4</th>\n",
       "      <td>January</td>\n",
       "      <td>Wednesday</td>\n",
       "      <td>Angola</td>\n",
       "      <td>0</td>\n",
       "      <td>0</td>\n",
       "      <td>0</td>\n",
       "      <td>0</td>\n",
       "    </tr>\n",
       "  </tbody>\n",
       "</table>\n",
       "</div>"
      ],
      "text/plain": [
       "     month        day      Country  Confirmed  Recovered  Deaths  Active_cases\n",
       "0  January  Wednesday  Afghanistan          0          0       0             0\n",
       "1  January  Wednesday      Albania          0          0       0             0\n",
       "2  January  Wednesday      Algeria          0          0       0             0\n",
       "3  January  Wednesday      Andorra          0          0       0             0\n",
       "4  January  Wednesday       Angola          0          0       0             0"
      ]
     },
     "execution_count": 13,
     "metadata": {},
     "output_type": "execute_result"
    }
   ],
   "source": [
    "df1.drop('year',axis=1,inplace=True)\n",
    "df1.head()"
   ]
  },
  {
   "cell_type": "markdown",
   "metadata": {},
   "source": [
    "# Exploratory Data Analysis"
   ]
  },
  {
   "cell_type": "code",
   "execution_count": 14,
   "metadata": {},
   "outputs": [],
   "source": [
    "#Importing Matplotlib and Seaborn\n",
    "import seaborn as sns\n",
    "import matplotlib.pyplot as plt"
   ]
  },
  {
   "cell_type": "markdown",
   "metadata": {},
   "source": [
    "# Checking Confirmed Cases worldwide"
   ]
  },
  {
   "cell_type": "code",
   "execution_count": 15,
   "metadata": {},
   "outputs": [
    {
     "data": {
      "text/html": [
       "<div>\n",
       "<style scoped>\n",
       "    .dataframe tbody tr th:only-of-type {\n",
       "        vertical-align: middle;\n",
       "    }\n",
       "\n",
       "    .dataframe tbody tr th {\n",
       "        vertical-align: top;\n",
       "    }\n",
       "\n",
       "    .dataframe thead th {\n",
       "        text-align: right;\n",
       "    }\n",
       "</style>\n",
       "<table border=\"1\" class=\"dataframe\">\n",
       "  <thead>\n",
       "    <tr style=\"text-align: right;\">\n",
       "      <th>day</th>\n",
       "      <th>Friday</th>\n",
       "      <th>Monday</th>\n",
       "      <th>Saturday</th>\n",
       "      <th>Sunday</th>\n",
       "      <th>Thursday</th>\n",
       "      <th>Tuesday</th>\n",
       "      <th>Wednesday</th>\n",
       "    </tr>\n",
       "  </thead>\n",
       "  <tbody>\n",
       "    <tr>\n",
       "      <th>Confirmed</th>\n",
       "      <td>26213226</td>\n",
       "      <td>28545053</td>\n",
       "      <td>27019574</td>\n",
       "      <td>27802617</td>\n",
       "      <td>25348006</td>\n",
       "      <td>29344165</td>\n",
       "      <td>24505737</td>\n",
       "    </tr>\n",
       "  </tbody>\n",
       "</table>\n",
       "</div>"
      ],
      "text/plain": [
       "day          Friday    Monday  Saturday    Sunday  Thursday   Tuesday  \\\n",
       "Confirmed  26213226  28545053  27019574  27802617  25348006  29344165   \n",
       "\n",
       "day        Wednesday  \n",
       "Confirmed   24505737  "
      ]
     },
     "execution_count": 15,
     "metadata": {},
     "output_type": "execute_result"
    }
   ],
   "source": [
    "#Lets check Average confirmed cases per day worldwide\n",
    "confirmedcases_per_day = pd.DataFrame(df1.groupby('day')['Confirmed'].sum()).T\n",
    "confirmedcases_per_day"
   ]
  },
  {
   "cell_type": "markdown",
   "metadata": {},
   "source": [
    "We can see that maximum confirmed cases are on Tuesday, whereas minimum confirmed cases are on Wednesday"
   ]
  },
  {
   "cell_type": "code",
   "execution_count": 16,
   "metadata": {},
   "outputs": [
    {
     "data": {
      "image/png": "[encoded data removed]",
      "text/plain": [
       "<Figure size 432x288 with 1 Axes>"
      ]
     },
     "metadata": {
      "needs_background": "light"
     },
     "output_type": "display_data"
    }
   ],
   "source": [
    "#Plotting the Confirmed cases per day worldwide using barplot\n",
    "sns.barplot(x='day',y='Confirmed',data=df1)\n",
    "plt.xlabel('Day')\n",
    "plt.ylabel('Confirmed cases')\n",
    "plt.title('Worldwide Average confirmed cases per day')\n",
    "plt.show()"
   ]
  },
  {
   "cell_type": "code",
   "execution_count": 17,
   "metadata": {},
   "outputs": [
    {
     "data": {
      "text/html": [
       "<div>\n",
       "<style scoped>\n",
       "    .dataframe tbody tr th:only-of-type {\n",
       "        vertical-align: middle;\n",
       "    }\n",
       "\n",
       "    .dataframe tbody tr th {\n",
       "        vertical-align: top;\n",
       "    }\n",
       "\n",
       "    .dataframe thead th {\n",
       "        text-align: right;\n",
       "    }\n",
       "</style>\n",
       "<table border=\"1\" class=\"dataframe\">\n",
       "  <thead>\n",
       "    <tr style=\"text-align: right;\">\n",
       "      <th>month</th>\n",
       "      <th>April</th>\n",
       "      <th>February</th>\n",
       "      <th>January</th>\n",
       "      <th>March</th>\n",
       "      <th>May</th>\n",
       "    </tr>\n",
       "  </thead>\n",
       "  <tbody>\n",
       "    <tr>\n",
       "      <th>Confirmed</th>\n",
       "      <td>63046693</td>\n",
       "      <td>1671783</td>\n",
       "      <td>38534</td>\n",
       "      <td>8899917</td>\n",
       "      <td>115121451</td>\n",
       "    </tr>\n",
       "  </tbody>\n",
       "</table>\n",
       "</div>"
      ],
      "text/plain": [
       "month         April  February  January    March        May\n",
       "Confirmed  63046693   1671783    38534  8899917  115121451"
      ]
     },
     "execution_count": 17,
     "metadata": {},
     "output_type": "execute_result"
    }
   ],
   "source": [
    "#Lets check Average confirmed cases per month worldwide\n",
    "confirmedcases_per_month = pd.DataFrame(df1.groupby('month')['Confirmed'].sum()).T\n",
    "confirmedcases_per_month"
   ]
  },
  {
   "cell_type": "markdown",
   "metadata": {},
   "source": [
    "We can see that maximum confirmed cases are recorded in the month of May, whereas minimum confirmed cases are recorded in January"
   ]
  },
  {
   "cell_type": "code",
   "execution_count": 18,
   "metadata": {},
   "outputs": [
    {
     "data": {
      "image/png": "[encoded data removed]",
      "text/plain": [
       "<Figure size 432x288 with 1 Axes>"
      ]
     },
     "metadata": {
      "needs_background": "light"
     },
     "output_type": "display_data"
    }
   ],
   "source": [
    "#Plotting the Confirmed cases per month worldwide using barplot\n",
    "sns.barplot(x='month',y='Confirmed',data=df1)\n",
    "plt.xlabel('Month')\n",
    "plt.ylabel('Confirmed cases')\n",
    "plt.title('Worldwide Average confirmed cases per Month')\n",
    "plt.show()"
   ]
  },
  {
   "cell_type": "markdown",
   "metadata": {},
   "source": [
    "# Checking Recovered cases worldwide"
   ]
  },
  {
   "cell_type": "code",
   "execution_count": 19,
   "metadata": {},
   "outputs": [
    {
     "data": {
      "text/html": [
       "<div>\n",
       "<style scoped>\n",
       "    .dataframe tbody tr th:only-of-type {\n",
       "        vertical-align: middle;\n",
       "    }\n",
       "\n",
       "    .dataframe tbody tr th {\n",
       "        vertical-align: top;\n",
       "    }\n",
       "\n",
       "    .dataframe thead th {\n",
       "        text-align: right;\n",
       "    }\n",
       "</style>\n",
       "<table border=\"1\" class=\"dataframe\">\n",
       "  <thead>\n",
       "    <tr style=\"text-align: right;\">\n",
       "      <th>day</th>\n",
       "      <th>Friday</th>\n",
       "      <th>Monday</th>\n",
       "      <th>Saturday</th>\n",
       "      <th>Sunday</th>\n",
       "      <th>Thursday</th>\n",
       "      <th>Tuesday</th>\n",
       "      <th>Wednesday</th>\n",
       "    </tr>\n",
       "  </thead>\n",
       "  <tbody>\n",
       "    <tr>\n",
       "      <th>Recovered</th>\n",
       "      <td>8437822</td>\n",
       "      <td>9373278</td>\n",
       "      <td>8768630</td>\n",
       "      <td>9052231</td>\n",
       "      <td>8068743</td>\n",
       "      <td>9706496</td>\n",
       "      <td>7750519</td>\n",
       "    </tr>\n",
       "  </tbody>\n",
       "</table>\n",
       "</div>"
      ],
      "text/plain": [
       "day         Friday   Monday  Saturday   Sunday  Thursday  Tuesday  Wednesday\n",
       "Recovered  8437822  9373278   8768630  9052231   8068743  9706496    7750519"
      ]
     },
     "execution_count": 19,
     "metadata": {},
     "output_type": "execute_result"
    }
   ],
   "source": [
    "#Lets check Average recovered cases per day worldwide\n",
    "Recoveredcases_per_day = pd.DataFrame(df1.groupby('day')['Recovered'].sum()).T\n",
    "Recoveredcases_per_day"
   ]
  },
  {
   "cell_type": "markdown",
   "metadata": {},
   "source": [
    "We can see that maximum recovery has been made on Tuesday, whereas minimum recovery has been done on Wednesday"
   ]
  },
  {
   "cell_type": "code",
   "execution_count": 20,
   "metadata": {},
   "outputs": [
    {
     "data": {
      "image/png": "[encoded data removed]",
      "text/plain": [
       "<Figure size 432x288 with 1 Axes>"
      ]
     },
     "metadata": {
      "needs_background": "light"
     },
     "output_type": "display_data"
    }
   ],
   "source": [
    "#Plotting the Recovered cases per day worldwide using barplot\n",
    "sns.barplot(x='day',y='Recovered',data=df1)\n",
    "plt.xlabel('Day')\n",
    "plt.ylabel('Recovered cases')\n",
    "plt.title('Worldwide Average Recovered cases per day')\n",
    "plt.show()"
   ]
  },
  {
   "cell_type": "code",
   "execution_count": 21,
   "metadata": {},
   "outputs": [
    {
     "data": {
      "text/html": [
       "<div>\n",
       "<style scoped>\n",
       "    .dataframe tbody tr th:only-of-type {\n",
       "        vertical-align: middle;\n",
       "    }\n",
       "\n",
       "    .dataframe tbody tr th {\n",
       "        vertical-align: top;\n",
       "    }\n",
       "\n",
       "    .dataframe thead th {\n",
       "        text-align: right;\n",
       "    }\n",
       "</style>\n",
       "<table border=\"1\" class=\"dataframe\">\n",
       "  <thead>\n",
       "    <tr style=\"text-align: right;\">\n",
       "      <th>month</th>\n",
       "      <th>April</th>\n",
       "      <th>February</th>\n",
       "      <th>January</th>\n",
       "      <th>March</th>\n",
       "      <th>May</th>\n",
       "    </tr>\n",
       "  </thead>\n",
       "  <tbody>\n",
       "    <tr>\n",
       "      <th>Recovered</th>\n",
       "      <td>16322390</td>\n",
       "      <td>380794</td>\n",
       "      <td>844</td>\n",
       "      <td>2706089</td>\n",
       "      <td>41747602</td>\n",
       "    </tr>\n",
       "  </tbody>\n",
       "</table>\n",
       "</div>"
      ],
      "text/plain": [
       "month         April  February  January    March       May\n",
       "Recovered  16322390    380794      844  2706089  41747602"
      ]
     },
     "execution_count": 21,
     "metadata": {},
     "output_type": "execute_result"
    }
   ],
   "source": [
    "#lets check Average recovered cases per month worldwide\n",
    "Recoveredcases_per_month = pd.DataFrame(df1.groupby('month')['Recovered'].sum()).T\n",
    "Recoveredcases_per_month"
   ]
  },
  {
   "cell_type": "markdown",
   "metadata": {},
   "source": [
    "We can see that maximum recovery has happened in the month of May, whereas minimum recovery has been in January"
   ]
  },
  {
   "cell_type": "code",
   "execution_count": 22,
   "metadata": {},
   "outputs": [
    {
     "data": {
      "image/png": "[encoded data removed]",
      "text/plain": [
       "<Figure size 432x288 with 1 Axes>"
      ]
     },
     "metadata": {
      "needs_background": "light"
     },
     "output_type": "display_data"
    }
   ],
   "source": [
    "#Plotting the Recovered cases per month worldwide using barplot\n",
    "sns.barplot(x='month',y='Recovered',data=df1)\n",
    "plt.xlabel('Month')\n",
    "plt.ylabel('Recovered cases')\n",
    "plt.title('Worldwide Average Recovered cases per Month')\n",
    "plt.show()"
   ]
  },
  {
   "cell_type": "markdown",
   "metadata": {},
   "source": [
    "# Checking Death cases worldwide "
   ]
  },
  {
   "cell_type": "code",
   "execution_count": 23,
   "metadata": {},
   "outputs": [
    {
     "data": {
      "text/html": [
       "<div>\n",
       "<style scoped>\n",
       "    .dataframe tbody tr th:only-of-type {\n",
       "        vertical-align: middle;\n",
       "    }\n",
       "\n",
       "    .dataframe tbody tr th {\n",
       "        vertical-align: top;\n",
       "    }\n",
       "\n",
       "    .dataframe thead th {\n",
       "        text-align: right;\n",
       "    }\n",
       "</style>\n",
       "<table border=\"1\" class=\"dataframe\">\n",
       "  <thead>\n",
       "    <tr style=\"text-align: right;\">\n",
       "      <th>day</th>\n",
       "      <th>Friday</th>\n",
       "      <th>Monday</th>\n",
       "      <th>Saturday</th>\n",
       "      <th>Sunday</th>\n",
       "      <th>Thursday</th>\n",
       "      <th>Tuesday</th>\n",
       "      <th>Wednesday</th>\n",
       "    </tr>\n",
       "  </thead>\n",
       "  <tbody>\n",
       "    <tr>\n",
       "      <th>Deaths</th>\n",
       "      <td>1742311</td>\n",
       "      <td>1870919</td>\n",
       "      <td>1791089</td>\n",
       "      <td>1830007</td>\n",
       "      <td>1686895</td>\n",
       "      <td>1928143</td>\n",
       "      <td>1632673</td>\n",
       "    </tr>\n",
       "  </tbody>\n",
       "</table>\n",
       "</div>"
      ],
      "text/plain": [
       "day      Friday   Monday  Saturday   Sunday  Thursday  Tuesday  Wednesday\n",
       "Deaths  1742311  1870919   1791089  1830007   1686895  1928143    1632673"
      ]
     },
     "execution_count": 23,
     "metadata": {},
     "output_type": "execute_result"
    }
   ],
   "source": [
    "#Lets check Average deathcases per day worldwide\n",
    "Deathcases_per_day = pd.DataFrame(df1.groupby('day')['Deaths'].sum()).T\n",
    "Deathcases_per_day"
   ]
  },
  {
   "cell_type": "markdown",
   "metadata": {},
   "source": [
    "We can see that maximum deaths had been on Tuesday, whereas minimum deaths had been on Wednesday"
   ]
  },
  {
   "cell_type": "code",
   "execution_count": 24,
   "metadata": {},
   "outputs": [
    {
     "data": {
      "image/png": "[encoded data removed]",
      "text/plain": [
       "<Figure size 432x288 with 1 Axes>"
      ]
     },
     "metadata": {
      "needs_background": "light"
     },
     "output_type": "display_data"
    }
   ],
   "source": [
    "#Plotting the Death cases per day worldwide using barplot\n",
    "sns.barplot(x='day',y='Deaths',data=df1)\n",
    "plt.xlabel('Day')\n",
    "plt.ylabel('Total Deaths')\n",
    "plt.title('Worldwide Average Death cases per day')\n",
    "plt.show()"
   ]
  },
  {
   "cell_type": "code",
   "execution_count": 25,
   "metadata": {},
   "outputs": [
    {
     "data": {
      "text/html": [
       "<div>\n",
       "<style scoped>\n",
       "    .dataframe tbody tr th:only-of-type {\n",
       "        vertical-align: middle;\n",
       "    }\n",
       "\n",
       "    .dataframe tbody tr th {\n",
       "        vertical-align: top;\n",
       "    }\n",
       "\n",
       "    .dataframe thead th {\n",
       "        text-align: right;\n",
       "    }\n",
       "</style>\n",
       "<table border=\"1\" class=\"dataframe\">\n",
       "  <thead>\n",
       "    <tr style=\"text-align: right;\">\n",
       "      <th>month</th>\n",
       "      <th>April</th>\n",
       "      <th>February</th>\n",
       "      <th>January</th>\n",
       "      <th>March</th>\n",
       "      <th>May</th>\n",
       "    </tr>\n",
       "  </thead>\n",
       "  <tbody>\n",
       "    <tr>\n",
       "      <th>Deaths</th>\n",
       "      <td>4291044</td>\n",
       "      <td>46898</td>\n",
       "      <td>889</td>\n",
       "      <td>396863</td>\n",
       "      <td>7746343</td>\n",
       "    </tr>\n",
       "  </tbody>\n",
       "</table>\n",
       "</div>"
      ],
      "text/plain": [
       "month     April  February  January   March      May\n",
       "Deaths  4291044     46898      889  396863  7746343"
      ]
     },
     "execution_count": 25,
     "metadata": {},
     "output_type": "execute_result"
    }
   ],
   "source": [
    "#Lets check Average Death cases per month worldwide\n",
    "Deathcases_per_month = pd.DataFrame(df1.groupby('month')['Deaths'].sum()).T\n",
    "Deathcases_per_month"
   ]
  },
  {
   "cell_type": "markdown",
   "metadata": {},
   "source": [
    "We can see that in May, maximum deaths have happened where as in January, minimum deaths have happened"
   ]
  },
  {
   "cell_type": "code",
   "execution_count": 26,
   "metadata": {},
   "outputs": [
    {
     "data": {
      "image/png": "[encoded data removed]",
      "text/plain": [
       "<Figure size 432x288 with 1 Axes>"
      ]
     },
     "metadata": {
      "needs_background": "light"
     },
     "output_type": "display_data"
    }
   ],
   "source": [
    "#Plotting the Death cases per month worldwide using barplot\n",
    "sns.barplot(x='month',y='Deaths',data=df1)\n",
    "plt.xlabel('Month')\n",
    "plt.ylabel('Total Deaths')\n",
    "plt.title('Worldwide Average Death cases per Month')\n",
    "plt.show()"
   ]
  },
  {
   "cell_type": "markdown",
   "metadata": {},
   "source": [
    "# Checking Active cases worldwide"
   ]
  },
  {
   "cell_type": "code",
   "execution_count": 27,
   "metadata": {},
   "outputs": [
    {
     "data": {
      "text/html": [
       "<div>\n",
       "<style scoped>\n",
       "    .dataframe tbody tr th:only-of-type {\n",
       "        vertical-align: middle;\n",
       "    }\n",
       "\n",
       "    .dataframe tbody tr th {\n",
       "        vertical-align: top;\n",
       "    }\n",
       "\n",
       "    .dataframe thead th {\n",
       "        text-align: right;\n",
       "    }\n",
       "</style>\n",
       "<table border=\"1\" class=\"dataframe\">\n",
       "  <thead>\n",
       "    <tr style=\"text-align: right;\">\n",
       "      <th>day</th>\n",
       "      <th>Friday</th>\n",
       "      <th>Monday</th>\n",
       "      <th>Saturday</th>\n",
       "      <th>Sunday</th>\n",
       "      <th>Thursday</th>\n",
       "      <th>Tuesday</th>\n",
       "      <th>Wednesday</th>\n",
       "    </tr>\n",
       "  </thead>\n",
       "  <tbody>\n",
       "    <tr>\n",
       "      <th>Active_cases</th>\n",
       "      <td>16033093</td>\n",
       "      <td>17300856</td>\n",
       "      <td>16459855</td>\n",
       "      <td>16920379</td>\n",
       "      <td>15592368</td>\n",
       "      <td>17709526</td>\n",
       "      <td>15122545</td>\n",
       "    </tr>\n",
       "  </tbody>\n",
       "</table>\n",
       "</div>"
      ],
      "text/plain": [
       "day             Friday    Monday  Saturday    Sunday  Thursday   Tuesday  \\\n",
       "Active_cases  16033093  17300856  16459855  16920379  15592368  17709526   \n",
       "\n",
       "day           Wednesday  \n",
       "Active_cases   15122545  "
      ]
     },
     "execution_count": 27,
     "metadata": {},
     "output_type": "execute_result"
    }
   ],
   "source": [
    "#Lets check Average Active cases per day worldwide\n",
    "Activecases_per_day = pd.DataFrame(df1.groupby('day')['Active_cases'].sum()).T\n",
    "Activecases_per_day"
   ]
  },
  {
   "cell_type": "markdown",
   "metadata": {},
   "source": [
    "We can see that Tuesday has more active cases present whereas on Wednesday there are less active cases"
   ]
  },
  {
   "cell_type": "code",
   "execution_count": 28,
   "metadata": {},
   "outputs": [
    {
     "data": {
      "image/png": "[encoded data removed]",
      "text/plain": [
       "<Figure size 432x288 with 1 Axes>"
      ]
     },
     "metadata": {
      "needs_background": "light"
     },
     "output_type": "display_data"
    }
   ],
   "source": [
    "#Plotting the Active cases per day worldwide using barplot\n",
    "sns.barplot(x='day',y='Active_cases',data=df1)\n",
    "plt.xlabel('Day')\n",
    "plt.ylabel('Active cases')\n",
    "plt.title('Worldwide Average Active cases per day')\n",
    "plt.show()"
   ]
  },
  {
   "cell_type": "code",
   "execution_count": 29,
   "metadata": {},
   "outputs": [
    {
     "data": {
      "text/html": [
       "<div>\n",
       "<style scoped>\n",
       "    .dataframe tbody tr th:only-of-type {\n",
       "        vertical-align: middle;\n",
       "    }\n",
       "\n",
       "    .dataframe tbody tr th {\n",
       "        vertical-align: top;\n",
       "    }\n",
       "\n",
       "    .dataframe thead th {\n",
       "        text-align: right;\n",
       "    }\n",
       "</style>\n",
       "<table border=\"1\" class=\"dataframe\">\n",
       "  <thead>\n",
       "    <tr style=\"text-align: right;\">\n",
       "      <th>month</th>\n",
       "      <th>April</th>\n",
       "      <th>February</th>\n",
       "      <th>January</th>\n",
       "      <th>March</th>\n",
       "      <th>May</th>\n",
       "    </tr>\n",
       "  </thead>\n",
       "  <tbody>\n",
       "    <tr>\n",
       "      <th>Active_cases</th>\n",
       "      <td>42433259</td>\n",
       "      <td>1244091</td>\n",
       "      <td>36801</td>\n",
       "      <td>5796965</td>\n",
       "      <td>65627506</td>\n",
       "    </tr>\n",
       "  </tbody>\n",
       "</table>\n",
       "</div>"
      ],
      "text/plain": [
       "month            April  February  January    March       May\n",
       "Active_cases  42433259   1244091    36801  5796965  65627506"
      ]
     },
     "execution_count": 29,
     "metadata": {},
     "output_type": "execute_result"
    }
   ],
   "source": [
    "#Lets check Average Active cases per month worldwide\n",
    "Activecases_per_month = pd.DataFrame(df1.groupby('month')['Active_cases'].sum()).T\n",
    "Activecases_per_month"
   ]
  },
  {
   "cell_type": "markdown",
   "metadata": {},
   "source": [
    "Maximum active cases are in the month of May, whereas minimum active cases are in the month of January"
   ]
  },
  {
   "cell_type": "code",
   "execution_count": 30,
   "metadata": {},
   "outputs": [
    {
     "data": {
      "image/png": "[encoded data removed]",
      "text/plain": [
       "<Figure size 432x288 with 1 Axes>"
      ]
     },
     "metadata": {
      "needs_background": "light"
     },
     "output_type": "display_data"
    }
   ],
   "source": [
    "#Plotting the Active cases per month worldwide using barplot\n",
    "sns.barplot(x='month',y='Active_cases',data=df1)\n",
    "plt.xlabel('Month')\n",
    "plt.ylabel('Active cases')\n",
    "plt.title('Worldwide Average Active cases per Month')\n",
    "plt.show()"
   ]
  },
  {
   "cell_type": "markdown",
   "metadata": {},
   "source": [
    "# Scatter plot"
   ]
  },
  {
   "cell_type": "code",
   "execution_count": 31,
   "metadata": {},
   "outputs": [
    {
     "data": {
      "text/plain": [
       "<matplotlib.axes._subplots.AxesSubplot at 0x27a74f7eee0>"
      ]
     },
     "execution_count": 31,
     "metadata": {},
     "output_type": "execute_result"
    },
    {
     "data": {
      "image/png": "[encoded data removed]",
      "text/plain": [
       "<Figure size 432x288 with 1 Axes>"
      ]
     },
     "metadata": {
      "needs_background": "light"
     },
     "output_type": "display_data"
    }
   ],
   "source": [
    "#Checking relationship of 2 columns using scatter plot\n",
    "sns.scatterplot(x='Confirmed',y='Deaths',data=df1)"
   ]
  },
  {
   "cell_type": "markdown",
   "metadata": {},
   "source": [
    "Most of the values of confirmed cases are in the range between 0.00-0.25"
   ]
  },
  {
   "cell_type": "code",
   "execution_count": 32,
   "metadata": {},
   "outputs": [
    {
     "data": {
      "text/plain": [
       "<matplotlib.axes._subplots.AxesSubplot at 0x27a74fec910>"
      ]
     },
     "execution_count": 32,
     "metadata": {},
     "output_type": "execute_result"
    },
    {
     "data": {
      "image/png": "[encoded data removed]",
      "text/plain": [
       "<Figure size 432x288 with 1 Axes>"
      ]
     },
     "metadata": {
      "needs_background": "light"
     },
     "output_type": "display_data"
    }
   ],
   "source": [
    "sns.scatterplot(x='Recovered',y='Deaths',data=df1)"
   ]
  },
  {
   "cell_type": "markdown",
   "metadata": {},
   "source": [
    "Most of the values of the recovered cases are in the range between 0-100000"
   ]
  },
  {
   "cell_type": "code",
   "execution_count": 33,
   "metadata": {},
   "outputs": [
    {
     "data": {
      "text/plain": [
       "<matplotlib.axes._subplots.AxesSubplot at 0x27a7601c280>"
      ]
     },
     "execution_count": 33,
     "metadata": {},
     "output_type": "execute_result"
    },
    {
     "data": {
      "image/png": "[encoded data removed]",
      "text/plain": [
       "<Figure size 432x288 with 1 Axes>"
      ]
     },
     "metadata": {
      "needs_background": "light"
     },
     "output_type": "display_data"
    }
   ],
   "source": [
    "sns.scatterplot(x='Active_cases',y='Deaths',data=df1)"
   ]
  },
  {
   "cell_type": "markdown",
   "metadata": {},
   "source": [
    "From the scatter plots we can see that the columns are not linearly related with each other and it is due to presence of skewness, outliers,etc."
   ]
  },
  {
   "cell_type": "markdown",
   "metadata": {},
   "source": [
    "# Multivariate Analysis"
   ]
  },
  {
   "cell_type": "code",
   "execution_count": 34,
   "metadata": {},
   "outputs": [
    {
     "data": {
      "text/html": [
       "<div>\n",
       "<style scoped>\n",
       "    .dataframe tbody tr th:only-of-type {\n",
       "        vertical-align: middle;\n",
       "    }\n",
       "\n",
       "    .dataframe tbody tr th {\n",
       "        vertical-align: top;\n",
       "    }\n",
       "\n",
       "    .dataframe thead th {\n",
       "        text-align: right;\n",
       "    }\n",
       "</style>\n",
       "<table border=\"1\" class=\"dataframe\">\n",
       "  <thead>\n",
       "    <tr style=\"text-align: right;\">\n",
       "      <th></th>\n",
       "      <th>Confirmed</th>\n",
       "      <th>Recovered</th>\n",
       "      <th>Deaths</th>\n",
       "      <th>Active_cases</th>\n",
       "    </tr>\n",
       "  </thead>\n",
       "  <tbody>\n",
       "    <tr>\n",
       "      <th>count</th>\n",
       "      <td>2.368800e+04</td>\n",
       "      <td>23688.000000</td>\n",
       "      <td>23688.000000</td>\n",
       "      <td>2.368800e+04</td>\n",
       "    </tr>\n",
       "    <tr>\n",
       "      <th>mean</th>\n",
       "      <td>7.969368e+03</td>\n",
       "      <td>2581.801714</td>\n",
       "      <td>526.935030</td>\n",
       "      <td>4.860631e+03</td>\n",
       "    </tr>\n",
       "    <tr>\n",
       "      <th>std</th>\n",
       "      <td>5.842109e+04</td>\n",
       "      <td>15143.101257</td>\n",
       "      <td>3992.815956</td>\n",
       "      <td>4.340165e+04</td>\n",
       "    </tr>\n",
       "    <tr>\n",
       "      <th>min</th>\n",
       "      <td>0.000000e+00</td>\n",
       "      <td>0.000000</td>\n",
       "      <td>0.000000</td>\n",
       "      <td>0.000000e+00</td>\n",
       "    </tr>\n",
       "    <tr>\n",
       "      <th>25%</th>\n",
       "      <td>0.000000e+00</td>\n",
       "      <td>0.000000</td>\n",
       "      <td>0.000000</td>\n",
       "      <td>0.000000e+00</td>\n",
       "    </tr>\n",
       "    <tr>\n",
       "      <th>50%</th>\n",
       "      <td>1.800000e+01</td>\n",
       "      <td>1.000000</td>\n",
       "      <td>0.000000</td>\n",
       "      <td>1.200000e+01</td>\n",
       "    </tr>\n",
       "    <tr>\n",
       "      <th>75%</th>\n",
       "      <td>7.300000e+02</td>\n",
       "      <td>123.000000</td>\n",
       "      <td>13.000000</td>\n",
       "      <td>4.302500e+02</td>\n",
       "    </tr>\n",
       "    <tr>\n",
       "      <th>max</th>\n",
       "      <td>1.680913e+06</td>\n",
       "      <td>384902.000000</td>\n",
       "      <td>98913.000000</td>\n",
       "      <td>1.197098e+06</td>\n",
       "    </tr>\n",
       "  </tbody>\n",
       "</table>\n",
       "</div>"
      ],
      "text/plain": [
       "          Confirmed      Recovered        Deaths  Active_cases\n",
       "count  2.368800e+04   23688.000000  23688.000000  2.368800e+04\n",
       "mean   7.969368e+03    2581.801714    526.935030  4.860631e+03\n",
       "std    5.842109e+04   15143.101257   3992.815956  4.340165e+04\n",
       "min    0.000000e+00       0.000000      0.000000  0.000000e+00\n",
       "25%    0.000000e+00       0.000000      0.000000  0.000000e+00\n",
       "50%    1.800000e+01       1.000000      0.000000  1.200000e+01\n",
       "75%    7.300000e+02     123.000000     13.000000  4.302500e+02\n",
       "max    1.680913e+06  384902.000000  98913.000000  1.197098e+06"
      ]
     },
     "execution_count": 34,
     "metadata": {},
     "output_type": "execute_result"
    }
   ],
   "source": [
    "df1.describe()    #Statistical summary of the dataset"
   ]
  },
  {
   "cell_type": "markdown",
   "metadata": {},
   "source": [
    "Observations:\n",
    "\n",
    "1.The difference between the mean and the median is large and this is due to the presence of outliers.\n",
    "\n",
    "2.The values of 25th percentile and minimum are 0 in all of the columns."
   ]
  },
  {
   "cell_type": "code",
   "execution_count": 35,
   "metadata": {},
   "outputs": [
    {
     "data": {
      "text/html": [
       "<div>\n",
       "<style scoped>\n",
       "    .dataframe tbody tr th:only-of-type {\n",
       "        vertical-align: middle;\n",
       "    }\n",
       "\n",
       "    .dataframe tbody tr th {\n",
       "        vertical-align: top;\n",
       "    }\n",
       "\n",
       "    .dataframe thead th {\n",
       "        text-align: right;\n",
       "    }\n",
       "</style>\n",
       "<table border=\"1\" class=\"dataframe\">\n",
       "  <thead>\n",
       "    <tr style=\"text-align: right;\">\n",
       "      <th></th>\n",
       "      <th>Confirmed</th>\n",
       "      <th>Recovered</th>\n",
       "      <th>Deaths</th>\n",
       "      <th>Active_cases</th>\n",
       "    </tr>\n",
       "  </thead>\n",
       "  <tbody>\n",
       "    <tr>\n",
       "      <th>Confirmed</th>\n",
       "      <td>1.000000</td>\n",
       "      <td>0.810991</td>\n",
       "      <td>0.929718</td>\n",
       "      <td>0.977566</td>\n",
       "    </tr>\n",
       "    <tr>\n",
       "      <th>Recovered</th>\n",
       "      <td>0.810991</td>\n",
       "      <td>1.000000</td>\n",
       "      <td>0.778094</td>\n",
       "      <td>0.671152</td>\n",
       "    </tr>\n",
       "    <tr>\n",
       "      <th>Deaths</th>\n",
       "      <td>0.929718</td>\n",
       "      <td>0.778094</td>\n",
       "      <td>1.000000</td>\n",
       "      <td>0.887974</td>\n",
       "    </tr>\n",
       "    <tr>\n",
       "      <th>Active_cases</th>\n",
       "      <td>0.977566</td>\n",
       "      <td>0.671152</td>\n",
       "      <td>0.887974</td>\n",
       "      <td>1.000000</td>\n",
       "    </tr>\n",
       "  </tbody>\n",
       "</table>\n",
       "</div>"
      ],
      "text/plain": [
       "              Confirmed  Recovered    Deaths  Active_cases\n",
       "Confirmed      1.000000   0.810991  0.929718      0.977566\n",
       "Recovered      0.810991   1.000000  0.778094      0.671152\n",
       "Deaths         0.929718   0.778094  1.000000      0.887974\n",
       "Active_cases   0.977566   0.671152  0.887974      1.000000"
      ]
     },
     "execution_count": 35,
     "metadata": {},
     "output_type": "execute_result"
    }
   ],
   "source": [
    "#Checking correlation of the dataset\n",
    "corr=df1.corr()  #corr() function provides the correlation value of each column\n",
    "corr"
   ]
  },
  {
   "cell_type": "code",
   "execution_count": 36,
   "metadata": {},
   "outputs": [
    {
     "data": {
      "image/png": "[encoded data removed]",
      "text/plain": [
       "<Figure size 720x360 with 2 Axes>"
      ]
     },
     "metadata": {
      "needs_background": "light"
     },
     "output_type": "display_data"
    }
   ],
   "source": [
    "#Plotting heatmap to understand the visualization of correlation\n",
    "plt.figure(figsize=(10,5))\n",
    "sns.heatmap(corr,linewidth=0.5,linecolor='black',annot=True)\n",
    "plt.show()"
   ]
  },
  {
   "cell_type": "markdown",
   "metadata": {},
   "source": [
    "Observations:\n",
    "\n",
    "1.All of the columns are positively correlated with the target variable.\n",
    "\n",
    "2.Confirmed column is the highest positive correlated column and it has a maximum value of 98% with Active_cases. As all of the   columns are correlated with each other, there is no need to drop any column.\n",
    "\n",
    "3.As all of the columns are positively correlated, they have a huge impact with the target variable"
   ]
  },
  {
   "cell_type": "markdown",
   "metadata": {},
   "source": [
    "# Converting Categorical data"
   ]
  },
  {
   "cell_type": "markdown",
   "metadata": {},
   "source": [
    "The columns month, day and Country have categorical data in it and we need to convert them into numerical data for proceeding further analysis. It can be done by using LabelEncoder"
   ]
  },
  {
   "cell_type": "code",
   "execution_count": 37,
   "metadata": {},
   "outputs": [],
   "source": [
    "from sklearn.preprocessing import LabelEncoder\n",
    "le=LabelEncoder()\n",
    "df1['month']=le.fit_transform(df1['month'].astype(str))\n",
    "df1['day']=le.fit_transform(df1['day'].astype(str))\n",
    "df1['Country']=le.fit_transform(df1['Country'].astype(str))"
   ]
  },
  {
   "cell_type": "code",
   "execution_count": 38,
   "metadata": {},
   "outputs": [
    {
     "name": "stdout",
     "output_type": "stream",
     "text": [
      "<class 'pandas.core.frame.DataFrame'>\n",
      "RangeIndex: 23688 entries, 0 to 23687\n",
      "Data columns (total 7 columns):\n",
      " #   Column        Non-Null Count  Dtype\n",
      "---  ------        --------------  -----\n",
      " 0   month         23688 non-null  int32\n",
      " 1   day           23688 non-null  int32\n",
      " 2   Country       23688 non-null  int32\n",
      " 3   Confirmed     23688 non-null  int64\n",
      " 4   Recovered     23688 non-null  int64\n",
      " 5   Deaths        23688 non-null  int64\n",
      " 6   Active_cases  23688 non-null  int64\n",
      "dtypes: int32(3), int64(4)\n",
      "memory usage: 1018.0 KB\n"
     ]
    }
   ],
   "source": [
    "#Checking the datatype of the columns after encoding\n",
    "df1.info()"
   ]
  },
  {
   "cell_type": "code",
   "execution_count": 39,
   "metadata": {},
   "outputs": [
    {
     "data": {
      "text/html": [
       "<div>\n",
       "<style scoped>\n",
       "    .dataframe tbody tr th:only-of-type {\n",
       "        vertical-align: middle;\n",
       "    }\n",
       "\n",
       "    .dataframe tbody tr th {\n",
       "        vertical-align: top;\n",
       "    }\n",
       "\n",
       "    .dataframe thead th {\n",
       "        text-align: right;\n",
       "    }\n",
       "</style>\n",
       "<table border=\"1\" class=\"dataframe\">\n",
       "  <thead>\n",
       "    <tr style=\"text-align: right;\">\n",
       "      <th></th>\n",
       "      <th>month</th>\n",
       "      <th>day</th>\n",
       "      <th>Country</th>\n",
       "      <th>Confirmed</th>\n",
       "      <th>Recovered</th>\n",
       "      <th>Deaths</th>\n",
       "      <th>Active_cases</th>\n",
       "    </tr>\n",
       "  </thead>\n",
       "  <tbody>\n",
       "    <tr>\n",
       "      <th>0</th>\n",
       "      <td>2</td>\n",
       "      <td>6</td>\n",
       "      <td>0</td>\n",
       "      <td>0</td>\n",
       "      <td>0</td>\n",
       "      <td>0</td>\n",
       "      <td>0</td>\n",
       "    </tr>\n",
       "    <tr>\n",
       "      <th>1</th>\n",
       "      <td>2</td>\n",
       "      <td>6</td>\n",
       "      <td>1</td>\n",
       "      <td>0</td>\n",
       "      <td>0</td>\n",
       "      <td>0</td>\n",
       "      <td>0</td>\n",
       "    </tr>\n",
       "    <tr>\n",
       "      <th>2</th>\n",
       "      <td>2</td>\n",
       "      <td>6</td>\n",
       "      <td>2</td>\n",
       "      <td>0</td>\n",
       "      <td>0</td>\n",
       "      <td>0</td>\n",
       "      <td>0</td>\n",
       "    </tr>\n",
       "    <tr>\n",
       "      <th>3</th>\n",
       "      <td>2</td>\n",
       "      <td>6</td>\n",
       "      <td>3</td>\n",
       "      <td>0</td>\n",
       "      <td>0</td>\n",
       "      <td>0</td>\n",
       "      <td>0</td>\n",
       "    </tr>\n",
       "    <tr>\n",
       "      <th>4</th>\n",
       "      <td>2</td>\n",
       "      <td>6</td>\n",
       "      <td>4</td>\n",
       "      <td>0</td>\n",
       "      <td>0</td>\n",
       "      <td>0</td>\n",
       "      <td>0</td>\n",
       "    </tr>\n",
       "  </tbody>\n",
       "</table>\n",
       "</div>"
      ],
      "text/plain": [
       "   month  day  Country  Confirmed  Recovered  Deaths  Active_cases\n",
       "0      2    6        0          0          0       0             0\n",
       "1      2    6        1          0          0       0             0\n",
       "2      2    6        2          0          0       0             0\n",
       "3      2    6        3          0          0       0             0\n",
       "4      2    6        4          0          0       0             0"
      ]
     },
     "execution_count": 39,
     "metadata": {},
     "output_type": "execute_result"
    }
   ],
   "source": [
    "df1.head()"
   ]
  },
  {
   "cell_type": "markdown",
   "metadata": {},
   "source": [
    "After LabelEncoding, we can see that all the columns having Categorical data has been converted into numeric data"
   ]
  },
  {
   "cell_type": "markdown",
   "metadata": {},
   "source": [
    "# Checking Skewness"
   ]
  },
  {
   "cell_type": "code",
   "execution_count": 40,
   "metadata": {},
   "outputs": [
    {
     "data": {
      "text/plain": [
       "month            0.024769\n",
       "day              0.000000\n",
       "Country          0.000000\n",
       "Confirmed       18.674502\n",
       "Recovered       10.662286\n",
       "Deaths          14.218167\n",
       "Active_cases    20.280435\n",
       "dtype: float64"
      ]
     },
     "execution_count": 40,
     "metadata": {},
     "output_type": "execute_result"
    }
   ],
   "source": [
    "df1.skew()"
   ]
  },
  {
   "cell_type": "markdown",
   "metadata": {},
   "source": [
    "Columns Country, Recovered, Deaths and Active_cases have heavy amount of skewness "
   ]
  },
  {
   "cell_type": "code",
   "execution_count": 41,
   "metadata": {},
   "outputs": [
    {
     "data": {
      "image/png": "[encoded data removed]",
      "text/plain": [
       "<Figure size 432x288 with 1 Axes>"
      ]
     },
     "metadata": {
      "needs_background": "light"
     },
     "output_type": "display_data"
    },
    {
     "data": {
      "image/png": "[encoded data removed]",
      "text/plain": [
       "<Figure size 432x288 with 1 Axes>"
      ]
     },
     "metadata": {
      "needs_background": "light"
     },
     "output_type": "display_data"
    },
    {
     "data": {
      "image/png": "[encoded data removed]",
      "text/plain": [
       "<Figure size 432x288 with 1 Axes>"
      ]
     },
     "metadata": {
      "needs_background": "light"
     },
     "output_type": "display_data"
    },
    {
     "data": {
      "image/png": "[encoded data removed]",
      "text/plain": [
       "<Figure size 432x288 with 1 Axes>"
      ]
     },
     "metadata": {
      "needs_background": "light"
     },
     "output_type": "display_data"
    },
    {
     "data": {
      "image/png": "[encoded data removed]",
      "text/plain": [
       "<Figure size 432x288 with 1 Axes>"
      ]
     },
     "metadata": {
      "needs_background": "light"
     },
     "output_type": "display_data"
    },
    {
     "data": {
      "image/png": "[encoded data removed]",
      "text/plain": [
       "<Figure size 432x288 with 1 Axes>"
      ]
     },
     "metadata": {
      "needs_background": "light"
     },
     "output_type": "display_data"
    },
    {
     "data": {
      "image/png": "[encoded data removed]",
      "text/plain": [
       "<Figure size 432x288 with 1 Axes>"
      ]
     },
     "metadata": {
      "needs_background": "light"
     },
     "output_type": "display_data"
    }
   ],
   "source": [
    "#Checking distribution of data using distribution plot\n",
    "for i in df1.columns:\n",
    "    sns.distplot(df1[i])\n",
    "    plt.show()"
   ]
  },
  {
   "cell_type": "markdown",
   "metadata": {},
   "source": [
    "From the graphs, we can say that the data is not normally distributed and we need to handle them"
   ]
  },
  {
   "cell_type": "markdown",
   "metadata": {},
   "source": [
    "# Checking Outliers"
   ]
  },
  {
   "cell_type": "code",
   "execution_count": 42,
   "metadata": {},
   "outputs": [
    {
     "data": {
      "text/plain": [
       "<matplotlib.axes._subplots.AxesSubplot at 0x27a76442d60>"
      ]
     },
     "execution_count": 42,
     "metadata": {},
     "output_type": "execute_result"
    },
    {
     "data": {
      "image/png": "[encoded data removed]",
      "text/plain": [
       "<Figure size 432x288 with 1 Axes>"
      ]
     },
     "metadata": {
      "needs_background": "light"
     },
     "output_type": "display_data"
    }
   ],
   "source": [
    "#Plotting boxplot for checking outliers\n",
    "df1['Confirmed'].plot.box()"
   ]
  },
  {
   "cell_type": "code",
   "execution_count": 43,
   "metadata": {},
   "outputs": [
    {
     "data": {
      "text/plain": [
       "<matplotlib.axes._subplots.AxesSubplot at 0x27a7649e820>"
      ]
     },
     "execution_count": 43,
     "metadata": {},
     "output_type": "execute_result"
    },
    {
     "data": {
      "image/png": "[encoded data removed]",
      "text/plain": [
       "<Figure size 432x288 with 1 Axes>"
      ]
     },
     "metadata": {
      "needs_background": "light"
     },
     "output_type": "display_data"
    }
   ],
   "source": [
    "df1['Recovered'].plot.box()"
   ]
  },
  {
   "cell_type": "code",
   "execution_count": 44,
   "metadata": {},
   "outputs": [
    {
     "data": {
      "text/plain": [
       "<matplotlib.axes._subplots.AxesSubplot at 0x27a764b48b0>"
      ]
     },
     "execution_count": 44,
     "metadata": {},
     "output_type": "execute_result"
    },
    {
     "data": {
      "image/png": "[encoded data removed]",
      "text/plain": [
       "<Figure size 432x288 with 1 Axes>"
      ]
     },
     "metadata": {
      "needs_background": "light"
     },
     "output_type": "display_data"
    }
   ],
   "source": [
    "df1['Deaths'].plot.box()"
   ]
  },
  {
   "cell_type": "code",
   "execution_count": 45,
   "metadata": {},
   "outputs": [
    {
     "data": {
      "text/plain": [
       "<matplotlib.axes._subplots.AxesSubplot at 0x27a762a09a0>"
      ]
     },
     "execution_count": 45,
     "metadata": {},
     "output_type": "execute_result"
    },
    {
     "data": {
      "image/png": "[encoded data removed]",
      "text/plain": [
       "<Figure size 432x288 with 1 Axes>"
      ]
     },
     "metadata": {
      "needs_background": "light"
     },
     "output_type": "display_data"
    }
   ],
   "source": [
    "df1['Active_cases'].plot.box()"
   ]
  },
  {
   "cell_type": "markdown",
   "metadata": {},
   "source": [
    "As large amount of outliers are present in the dataset, we can handle them by using z-score"
   ]
  },
  {
   "cell_type": "markdown",
   "metadata": {},
   "source": [
    "# Handling outliers using z-score"
   ]
  },
  {
   "cell_type": "code",
   "execution_count": 46,
   "metadata": {},
   "outputs": [
    {
     "data": {
      "text/plain": [
       "(array([ 7932,  8120,  8308,  8496,  8684,  8872,  9060,  9248,  9436,\n",
       "         9624,  9812, 10000, 10188, 10376, 10564, 10752, 10940, 11128,\n",
       "        11316, 11504, 11692, 11880, 12068, 12256, 12444, 12632, 12820,\n",
       "        12958, 13008, 13146, 13146, 13196, 13245, 13334, 13334, 13384,\n",
       "        13433, 13522, 13522, 13572, 13621, 13710, 13710, 13760, 13809,\n",
       "        13898, 13898, 13948, 13997, 14070, 14086, 14086, 14136, 14185,\n",
       "        14258, 14274, 14274, 14274, 14324, 14373, 14446, 14462, 14462,\n",
       "        14462, 14512, 14561, 14634, 14634, 14650, 14650, 14650, 14700,\n",
       "        14730, 14749, 14822, 14822, 14838, 14838, 14838, 14888, 14914,\n",
       "        14918, 14937, 15010, 15010, 15026, 15026, 15026, 15076, 15102,\n",
       "        15106, 15125, 15198, 15198, 15214, 15214, 15214, 15264, 15290,\n",
       "        15294, 15313, 15386, 15386, 15402, 15402, 15402, 15452, 15478,\n",
       "        15482, 15501, 15574, 15574, 15590, 15590, 15590, 15594, 15640,\n",
       "        15666, 15670, 15685, 15689, 15762, 15762, 15778, 15778, 15778,\n",
       "        15782, 15828, 15854, 15858, 15873, 15877, 15950, 15950, 15966,\n",
       "        15966, 15966, 15966, 15970, 16016, 16042, 16046, 16061, 16065,\n",
       "        16138, 16138, 16138, 16154, 16154, 16154, 16154, 16158, 16204,\n",
       "        16230, 16234, 16249, 16253, 16326, 16326, 16326, 16342, 16342,\n",
       "        16342, 16342, 16346, 16392, 16418, 16422, 16437, 16441, 16514,\n",
       "        16514, 16514, 16530, 16530, 16530, 16530, 16534, 16580, 16606,\n",
       "        16610, 16625, 16629, 16702, 16702, 16702, 16718, 16718, 16718,\n",
       "        16718, 16722, 16768, 16794, 16798, 16813, 16817, 16817, 16890,\n",
       "        16890, 16890, 16906, 16906, 16906, 16906, 16910, 16956, 16982,\n",
       "        16986, 17001, 17005, 17005, 17005, 17078, 17078, 17078, 17094,\n",
       "        17094, 17094, 17094, 17098, 17144, 17170, 17174, 17189, 17193,\n",
       "        17193, 17193, 17266, 17266, 17266, 17282, 17282, 17282, 17282,\n",
       "        17286, 17332, 17358, 17362, 17377, 17381, 17381, 17381, 17454,\n",
       "        17454, 17454, 17470, 17470, 17470, 17470, 17474, 17520, 17546,\n",
       "        17550, 17565, 17569, 17569, 17569, 17642, 17642, 17642, 17658,\n",
       "        17658, 17658, 17658, 17662, 17708, 17734, 17738, 17753, 17757,\n",
       "        17757, 17757, 17830, 17830, 17830, 17846, 17846, 17846, 17846,\n",
       "        17850, 17896, 17922, 17926, 17941, 17945, 17945, 17945, 18018,\n",
       "        18018, 18018, 18034, 18034, 18034, 18034, 18038, 18084, 18110,\n",
       "        18114, 18129, 18133, 18133, 18133, 18206, 18206, 18206, 18222,\n",
       "        18222, 18222, 18222, 18226, 18272, 18298, 18302, 18317, 18321,\n",
       "        18321, 18321, 18394, 18394, 18394, 18410, 18410, 18410, 18410,\n",
       "        18414, 18414, 18460, 18486, 18486, 18490, 18505, 18509, 18509,\n",
       "        18509, 18582, 18582, 18582, 18598, 18598, 18598, 18598, 18602,\n",
       "        18602, 18648, 18674, 18674, 18678, 18693, 18697, 18697, 18697,\n",
       "        18770, 18770, 18770, 18785, 18786, 18786, 18786, 18786, 18790,\n",
       "        18790, 18836, 18862, 18862, 18866, 18881, 18885, 18885, 18885,\n",
       "        18958, 18958, 18958, 18973, 18974, 18974, 18974, 18974, 18978,\n",
       "        18978, 19024, 19050, 19050, 19054, 19069, 19073, 19073, 19073,\n",
       "        19146, 19146, 19146, 19161, 19162, 19162, 19162, 19162, 19166,\n",
       "        19166, 19166, 19212, 19238, 19238, 19242, 19257, 19261, 19261,\n",
       "        19261, 19334, 19334, 19334, 19349, 19350, 19350, 19350, 19350,\n",
       "        19354, 19354, 19354, 19400, 19426, 19426, 19430, 19445, 19449,\n",
       "        19449, 19449, 19522, 19522, 19522, 19537, 19538, 19538, 19538,\n",
       "        19538, 19542, 19542, 19542, 19575, 19588, 19614, 19614, 19618,\n",
       "        19633, 19637, 19637, 19637, 19710, 19710, 19710, 19725, 19726,\n",
       "        19726, 19726, 19726, 19730, 19730, 19730, 19763, 19776, 19802,\n",
       "        19802, 19806, 19821, 19825, 19825, 19825, 19880, 19898, 19898,\n",
       "        19898, 19913, 19914, 19914, 19914, 19914, 19918, 19918, 19918,\n",
       "        19951, 19964, 19990, 19990, 19994, 20009, 20013, 20013, 20013,\n",
       "        20068, 20086, 20086, 20086, 20101, 20102, 20102, 20102, 20102,\n",
       "        20106, 20106, 20106, 20139, 20152, 20178, 20178, 20182, 20197,\n",
       "        20201, 20201, 20201, 20256, 20256, 20274, 20274, 20274, 20289,\n",
       "        20290, 20290, 20290, 20290, 20294, 20294, 20294, 20327, 20340,\n",
       "        20366, 20366, 20370, 20385, 20389, 20389, 20389, 20444, 20444,\n",
       "        20462, 20462, 20462, 20477, 20478, 20478, 20478, 20478, 20482,\n",
       "        20482, 20482, 20515, 20528, 20554, 20554, 20558, 20573, 20577,\n",
       "        20577, 20577, 20632, 20632, 20650, 20650, 20650, 20665, 20666,\n",
       "        20666, 20666, 20666, 20670, 20670, 20670, 20703, 20716, 20742,\n",
       "        20742, 20746, 20761, 20765, 20765, 20765, 20820, 20820, 20838,\n",
       "        20838, 20838, 20853, 20854, 20854, 20854, 20854, 20858, 20858,\n",
       "        20858, 20891, 20904, 20930, 20930, 20934, 20949, 20953, 20953,\n",
       "        20953, 21008, 21008, 21026, 21026, 21026, 21041, 21042, 21042,\n",
       "        21042, 21042, 21046, 21046, 21046, 21079, 21079, 21079, 21092,\n",
       "        21118, 21118, 21122, 21137, 21141, 21141, 21141, 21196, 21196,\n",
       "        21214, 21214, 21214, 21229, 21230, 21230, 21230, 21230, 21234,\n",
       "        21234, 21234, 21267, 21267, 21267, 21280, 21306, 21306, 21310,\n",
       "        21325, 21329, 21329, 21329, 21384, 21384, 21384, 21402, 21402,\n",
       "        21402, 21417, 21418, 21418, 21418, 21418, 21422, 21422, 21422,\n",
       "        21455, 21455, 21455, 21468, 21494, 21494, 21498, 21513, 21517,\n",
       "        21517, 21517, 21572, 21572, 21572, 21590, 21590, 21590, 21605,\n",
       "        21606, 21606, 21606, 21606, 21610, 21610, 21610, 21643, 21643,\n",
       "        21643, 21656, 21682, 21682, 21686, 21701, 21705, 21705, 21705,\n",
       "        21760, 21760, 21760, 21778, 21778, 21778, 21793, 21794, 21794,\n",
       "        21794, 21794, 21798, 21798, 21798, 21831, 21831, 21831, 21844,\n",
       "        21870, 21870, 21874, 21889, 21893, 21893, 21893, 21948, 21948,\n",
       "        21948, 21966, 21966, 21966, 21981, 21982, 21982, 21982, 21982,\n",
       "        21986, 21986, 21986, 22019, 22019, 22019, 22019, 22032, 22058,\n",
       "        22058, 22062, 22077, 22081, 22081, 22081, 22136, 22136, 22136,\n",
       "        22154, 22154, 22154, 22169, 22170, 22170, 22170, 22170, 22174,\n",
       "        22174, 22174, 22207, 22207, 22207, 22207, 22220, 22246, 22246,\n",
       "        22250, 22265, 22269, 22269, 22269, 22324, 22324, 22324, 22342,\n",
       "        22342, 22342, 22357, 22358, 22358, 22358, 22358, 22362, 22362,\n",
       "        22362, 22395, 22395, 22395, 22395, 22408, 22434, 22434, 22438,\n",
       "        22453, 22457, 22457, 22457, 22512, 22512, 22512, 22530, 22530,\n",
       "        22530, 22545, 22546, 22546, 22546, 22546, 22550, 22550, 22550,\n",
       "        22583, 22583, 22583, 22583, 22596, 22622, 22622, 22626, 22639,\n",
       "        22641, 22645, 22645, 22645, 22700, 22700, 22700, 22718, 22718,\n",
       "        22718, 22733, 22734, 22734, 22734, 22734, 22738, 22738, 22738,\n",
       "        22771, 22771, 22771, 22771, 22784, 22810, 22810, 22814, 22827,\n",
       "        22829, 22833, 22833, 22833, 22888, 22888, 22888, 22906, 22906,\n",
       "        22906, 22921, 22922, 22922, 22922, 22922, 22926, 22926, 22926,\n",
       "        22959, 22959, 22959, 22959, 22972, 22998, 22998, 23002, 23015,\n",
       "        23017, 23021, 23021, 23021, 23076, 23076, 23076, 23094, 23094,\n",
       "        23094, 23109, 23110, 23110, 23110, 23110, 23114, 23114, 23114,\n",
       "        23147, 23147, 23147, 23147, 23160, 23186, 23186, 23190, 23203,\n",
       "        23205, 23209, 23209, 23209, 23258, 23264, 23264, 23264, 23282,\n",
       "        23282, 23282, 23297, 23298, 23298, 23298, 23298, 23302, 23302,\n",
       "        23302, 23335, 23335, 23335, 23335, 23348, 23374, 23374, 23378,\n",
       "        23391, 23393, 23397, 23397, 23397, 23425, 23446, 23452, 23452,\n",
       "        23452, 23470, 23470, 23470, 23485, 23486, 23486, 23486, 23486,\n",
       "        23490, 23490, 23490, 23523, 23523, 23523, 23523, 23536, 23562,\n",
       "        23562, 23566, 23579, 23581, 23585, 23585, 23585, 23613, 23634,\n",
       "        23640, 23640, 23640, 23647, 23658, 23658, 23658, 23673, 23674,\n",
       "        23674, 23674, 23674, 23678, 23678, 23678], dtype=int64),\n",
       " array([4, 4, 4, 4, 4, 4, 4, 4, 4, 4, 4, 4, 4, 4, 4, 4, 4, 4, 4, 4, 4, 4,\n",
       "        4, 4, 4, 4, 4, 6, 4, 3, 6, 4, 5, 3, 6, 4, 5, 3, 6, 4, 5, 3, 6, 4,\n",
       "        5, 3, 6, 4, 5, 5, 3, 6, 4, 5, 5, 3, 5, 6, 4, 5, 5, 3, 5, 6, 4, 5,\n",
       "        4, 5, 3, 5, 6, 4, 4, 5, 4, 5, 3, 5, 6, 4, 5, 4, 5, 4, 5, 3, 5, 6,\n",
       "        4, 5, 4, 5, 4, 5, 3, 5, 6, 4, 5, 4, 5, 4, 5, 3, 5, 6, 4, 5, 4, 5,\n",
       "        4, 5, 3, 5, 6, 5, 4, 5, 4, 4, 5, 4, 5, 3, 5, 6, 5, 4, 5, 4, 4, 5,\n",
       "        4, 5, 3, 4, 5, 6, 5, 4, 5, 4, 4, 5, 3, 4, 5, 3, 4, 5, 6, 5, 4, 5,\n",
       "        4, 4, 5, 3, 4, 5, 3, 4, 5, 6, 5, 4, 5, 4, 4, 5, 3, 4, 5, 3, 4, 5,\n",
       "        6, 5, 4, 5, 4, 4, 5, 3, 4, 5, 3, 4, 5, 6, 5, 4, 5, 4, 4, 4, 5, 3,\n",
       "        4, 5, 3, 4, 5, 6, 5, 4, 5, 4, 4, 3, 4, 5, 3, 4, 5, 3, 4, 5, 6, 5,\n",
       "        4, 5, 4, 4, 3, 4, 5, 3, 4, 5, 3, 4, 5, 6, 5, 4, 5, 4, 4, 3, 4, 5,\n",
       "        3, 4, 5, 3, 4, 5, 6, 5, 4, 5, 4, 4, 3, 4, 5, 3, 4, 5, 3, 4, 5, 6,\n",
       "        5, 4, 5, 4, 4, 3, 4, 5, 3, 4, 5, 3, 4, 5, 6, 5, 4, 5, 4, 4, 3, 4,\n",
       "        5, 3, 4, 5, 3, 4, 5, 6, 5, 4, 5, 4, 4, 3, 4, 5, 3, 4, 5, 3, 4, 5,\n",
       "        6, 5, 4, 5, 4, 4, 3, 4, 5, 3, 4, 5, 3, 4, 5, 6, 5, 6, 4, 4, 5, 4,\n",
       "        4, 3, 4, 5, 3, 4, 5, 3, 4, 5, 6, 5, 6, 4, 4, 5, 4, 4, 3, 4, 5, 3,\n",
       "        4, 5, 4, 3, 4, 5, 6, 5, 6, 4, 4, 5, 4, 4, 3, 4, 5, 3, 4, 5, 4, 3,\n",
       "        4, 5, 6, 5, 6, 4, 4, 5, 4, 4, 3, 4, 5, 3, 4, 5, 4, 3, 4, 5, 6, 3,\n",
       "        5, 6, 4, 4, 5, 4, 4, 3, 4, 5, 3, 4, 5, 4, 3, 4, 5, 6, 3, 5, 6, 4,\n",
       "        4, 5, 4, 4, 3, 4, 5, 3, 4, 5, 4, 3, 4, 5, 6, 3, 5, 6, 4, 4, 4, 5,\n",
       "        4, 4, 3, 4, 5, 3, 4, 5, 4, 3, 4, 5, 6, 3, 5, 6, 4, 4, 4, 5, 4, 4,\n",
       "        3, 4, 5, 6, 3, 4, 5, 4, 3, 4, 5, 6, 3, 5, 6, 4, 4, 4, 5, 4, 4, 3,\n",
       "        4, 5, 6, 3, 4, 5, 4, 3, 4, 5, 6, 3, 5, 6, 4, 4, 4, 5, 4, 4, 3, 4,\n",
       "        5, 3, 6, 3, 4, 5, 4, 3, 4, 5, 6, 3, 5, 6, 4, 4, 4, 5, 4, 4, 3, 4,\n",
       "        5, 3, 6, 3, 4, 5, 4, 3, 4, 5, 6, 3, 5, 6, 4, 4, 4, 5, 4, 4, 3, 4,\n",
       "        5, 3, 6, 3, 4, 5, 4, 3, 4, 5, 6, 3, 5, 6, 4, 4, 4, 5, 4, 4, 3, 4,\n",
       "        5, 3, 6, 3, 4, 5, 4, 3, 4, 5, 6, 3, 5, 6, 4, 4, 4, 5, 4, 4, 3, 4,\n",
       "        5, 3, 6, 3, 4, 5, 4, 3, 4, 5, 6, 3, 5, 6, 3, 4, 5, 4, 4, 5, 4, 4,\n",
       "        3, 4, 5, 3, 6, 3, 4, 5, 4, 3, 4, 5, 6, 3, 5, 6, 3, 4, 5, 4, 4, 5,\n",
       "        4, 4, 3, 4, 5, 3, 4, 6, 3, 4, 5, 4, 3, 4, 5, 6, 3, 5, 6, 3, 4, 5,\n",
       "        4, 4, 5, 4, 4, 3, 4, 5, 3, 4, 6, 3, 4, 5, 4, 3, 4, 5, 6, 3, 5, 6,\n",
       "        3, 4, 5, 4, 4, 5, 4, 4, 3, 4, 5, 3, 4, 6, 3, 4, 5, 4, 3, 4, 5, 6,\n",
       "        3, 5, 6, 3, 4, 5, 4, 4, 5, 4, 4, 3, 4, 5, 3, 4, 6, 3, 4, 5, 4, 3,\n",
       "        4, 5, 6, 3, 5, 6, 3, 4, 5, 6, 4, 4, 5, 4, 4, 3, 4, 5, 3, 4, 6, 3,\n",
       "        4, 5, 4, 3, 4, 5, 6, 3, 5, 6, 3, 4, 5, 6, 4, 4, 5, 4, 4, 3, 4, 5,\n",
       "        3, 4, 6, 3, 4, 5, 4, 3, 4, 5, 6, 3, 5, 6, 3, 4, 5, 6, 4, 4, 5, 4,\n",
       "        4, 3, 4, 5, 3, 4, 6, 3, 4, 5, 4, 3, 4, 5, 6, 3, 5, 6, 3, 4, 5, 6,\n",
       "        4, 4, 5, 4, 4, 4, 3, 4, 5, 3, 4, 6, 3, 4, 5, 4, 3, 4, 5, 6, 3, 5,\n",
       "        6, 3, 4, 5, 6, 4, 4, 5, 4, 4, 4, 3, 4, 5, 3, 4, 6, 3, 4, 5, 4, 3,\n",
       "        4, 5, 6, 3, 5, 6, 3, 4, 5, 6, 4, 4, 5, 4, 4, 4, 3, 4, 5, 3, 4, 6,\n",
       "        3, 4, 5, 4, 3, 4, 5, 6, 3, 5, 6, 3, 4, 5, 6, 4, 4, 5, 4, 4, 4, 3,\n",
       "        4, 5, 4, 3, 4, 6, 3, 4, 5, 4, 3, 4, 5, 6, 3, 5, 6, 3, 4, 5, 6, 4,\n",
       "        4, 5, 4, 4, 4, 3, 4, 5, 4, 4, 3, 4, 6, 3, 4, 5, 4, 3, 4, 5, 6, 3,\n",
       "        5, 6, 3, 4, 5, 6, 4, 4, 5, 4, 4, 4, 3, 4, 5, 4, 4, 3, 4, 6, 4, 3,\n",
       "        4, 5, 4, 3, 4, 5, 6, 3, 5, 6], dtype=int64))"
      ]
     },
     "execution_count": 46,
     "metadata": {},
     "output_type": "execute_result"
    }
   ],
   "source": [
    "from scipy.stats import zscore\n",
    "import numpy as np\n",
    "z=np.abs(zscore(df1))   #converting all values into absolute values\n",
    "threshold=3    #setting up a threshold\n",
    "np.where(z>3)"
   ]
  },
  {
   "cell_type": "code",
   "execution_count": 47,
   "metadata": {},
   "outputs": [
    {
     "data": {
      "text/html": [
       "<div>\n",
       "<style scoped>\n",
       "    .dataframe tbody tr th:only-of-type {\n",
       "        vertical-align: middle;\n",
       "    }\n",
       "\n",
       "    .dataframe tbody tr th {\n",
       "        vertical-align: top;\n",
       "    }\n",
       "\n",
       "    .dataframe thead th {\n",
       "        text-align: right;\n",
       "    }\n",
       "</style>\n",
       "<table border=\"1\" class=\"dataframe\">\n",
       "  <thead>\n",
       "    <tr style=\"text-align: right;\">\n",
       "      <th></th>\n",
       "      <th>month</th>\n",
       "      <th>day</th>\n",
       "      <th>Country</th>\n",
       "      <th>Confirmed</th>\n",
       "      <th>Recovered</th>\n",
       "      <th>Deaths</th>\n",
       "      <th>Active_cases</th>\n",
       "    </tr>\n",
       "  </thead>\n",
       "  <tbody>\n",
       "    <tr>\n",
       "      <th>0</th>\n",
       "      <td>2</td>\n",
       "      <td>6</td>\n",
       "      <td>0</td>\n",
       "      <td>0</td>\n",
       "      <td>0</td>\n",
       "      <td>0</td>\n",
       "      <td>0</td>\n",
       "    </tr>\n",
       "    <tr>\n",
       "      <th>1</th>\n",
       "      <td>2</td>\n",
       "      <td>6</td>\n",
       "      <td>1</td>\n",
       "      <td>0</td>\n",
       "      <td>0</td>\n",
       "      <td>0</td>\n",
       "      <td>0</td>\n",
       "    </tr>\n",
       "    <tr>\n",
       "      <th>2</th>\n",
       "      <td>2</td>\n",
       "      <td>6</td>\n",
       "      <td>2</td>\n",
       "      <td>0</td>\n",
       "      <td>0</td>\n",
       "      <td>0</td>\n",
       "      <td>0</td>\n",
       "    </tr>\n",
       "    <tr>\n",
       "      <th>3</th>\n",
       "      <td>2</td>\n",
       "      <td>6</td>\n",
       "      <td>3</td>\n",
       "      <td>0</td>\n",
       "      <td>0</td>\n",
       "      <td>0</td>\n",
       "      <td>0</td>\n",
       "    </tr>\n",
       "    <tr>\n",
       "      <th>4</th>\n",
       "      <td>2</td>\n",
       "      <td>6</td>\n",
       "      <td>4</td>\n",
       "      <td>0</td>\n",
       "      <td>0</td>\n",
       "      <td>0</td>\n",
       "      <td>0</td>\n",
       "    </tr>\n",
       "    <tr>\n",
       "      <th>...</th>\n",
       "      <td>...</td>\n",
       "      <td>...</td>\n",
       "      <td>...</td>\n",
       "      <td>...</td>\n",
       "      <td>...</td>\n",
       "      <td>...</td>\n",
       "      <td>...</td>\n",
       "    </tr>\n",
       "    <tr>\n",
       "      <th>23683</th>\n",
       "      <td>4</td>\n",
       "      <td>5</td>\n",
       "      <td>183</td>\n",
       "      <td>429</td>\n",
       "      <td>365</td>\n",
       "      <td>3</td>\n",
       "      <td>61</td>\n",
       "    </tr>\n",
       "    <tr>\n",
       "      <th>23684</th>\n",
       "      <td>4</td>\n",
       "      <td>5</td>\n",
       "      <td>184</td>\n",
       "      <td>9</td>\n",
       "      <td>6</td>\n",
       "      <td>1</td>\n",
       "      <td>2</td>\n",
       "    </tr>\n",
       "    <tr>\n",
       "      <th>23685</th>\n",
       "      <td>4</td>\n",
       "      <td>5</td>\n",
       "      <td>185</td>\n",
       "      <td>249</td>\n",
       "      <td>10</td>\n",
       "      <td>49</td>\n",
       "      <td>190</td>\n",
       "    </tr>\n",
       "    <tr>\n",
       "      <th>23686</th>\n",
       "      <td>4</td>\n",
       "      <td>5</td>\n",
       "      <td>186</td>\n",
       "      <td>920</td>\n",
       "      <td>336</td>\n",
       "      <td>7</td>\n",
       "      <td>577</td>\n",
       "    </tr>\n",
       "    <tr>\n",
       "      <th>23687</th>\n",
       "      <td>4</td>\n",
       "      <td>5</td>\n",
       "      <td>187</td>\n",
       "      <td>56</td>\n",
       "      <td>25</td>\n",
       "      <td>4</td>\n",
       "      <td>27</td>\n",
       "    </tr>\n",
       "  </tbody>\n",
       "</table>\n",
       "<p>23174 rows × 7 columns</p>\n",
       "</div>"
      ],
      "text/plain": [
       "       month  day  Country  Confirmed  Recovered  Deaths  Active_cases\n",
       "0          2    6        0          0          0       0             0\n",
       "1          2    6        1          0          0       0             0\n",
       "2          2    6        2          0          0       0             0\n",
       "3          2    6        3          0          0       0             0\n",
       "4          2    6        4          0          0       0             0\n",
       "...      ...  ...      ...        ...        ...     ...           ...\n",
       "23683      4    5      183        429        365       3            61\n",
       "23684      4    5      184          9          6       1             2\n",
       "23685      4    5      185        249         10      49           190\n",
       "23686      4    5      186        920        336       7           577\n",
       "23687      4    5      187         56         25       4            27\n",
       "\n",
       "[23174 rows x 7 columns]"
      ]
     },
     "execution_count": 47,
     "metadata": {},
     "output_type": "execute_result"
    }
   ],
   "source": [
    "#Removing outliers\n",
    "df_new=df1[(z<3).all(axis=1)]\n",
    "df_new"
   ]
  },
  {
   "cell_type": "code",
   "execution_count": 48,
   "metadata": {},
   "outputs": [
    {
     "data": {
      "text/plain": [
       "(23688, 7)"
      ]
     },
     "execution_count": 48,
     "metadata": {},
     "output_type": "execute_result"
    }
   ],
   "source": [
    "df1.shape   #Original dataset dimensions"
   ]
  },
  {
   "cell_type": "code",
   "execution_count": 49,
   "metadata": {},
   "outputs": [
    {
     "data": {
      "text/plain": [
       "(23174, 7)"
      ]
     },
     "execution_count": 49,
     "metadata": {},
     "output_type": "execute_result"
    }
   ],
   "source": [
    "df_new.shape   #New dataset dimensions"
   ]
  },
  {
   "cell_type": "markdown",
   "metadata": {},
   "source": [
    "Nearly 500+ rows had outliers and they have been removed by using z-score"
   ]
  },
  {
   "cell_type": "markdown",
   "metadata": {},
   "source": [
    "# Percentage loss of data after removing outliers"
   ]
  },
  {
   "cell_type": "code",
   "execution_count": 50,
   "metadata": {},
   "outputs": [
    {
     "name": "stdout",
     "output_type": "stream",
     "text": [
      "2.169875042215468\n"
     ]
    }
   ],
   "source": [
    "percentage_loss=((514)/23688)*100   #514=23688-23174\n",
    "print(percentage_loss)"
   ]
  },
  {
   "cell_type": "markdown",
   "metadata": {},
   "source": [
    "Nearly 2% of the data has been lost due to the removal of outliers"
   ]
  },
  {
   "cell_type": "markdown",
   "metadata": {},
   "source": [
    "# Removing skewness"
   ]
  },
  {
   "cell_type": "code",
   "execution_count": 51,
   "metadata": {},
   "outputs": [],
   "source": [
    "#Removing skewness from entire dataset as target variable also have huge skewness in it\n",
    "import numpy as np\n",
    "for col in df_new.columns:\n",
    "    if df_new.skew().loc[col]>0.55:\n",
    "        df_new[col]=np.sqrt(df_new[col])   #Using square root transform method"
   ]
  },
  {
   "cell_type": "markdown",
   "metadata": {},
   "source": [
    "# Preparing dataset for model training"
   ]
  },
  {
   "cell_type": "markdown",
   "metadata": {},
   "source": [
    "Splitting x(Independent variables) and y(Target variable/Dependent variables)"
   ]
  },
  {
   "cell_type": "code",
   "execution_count": 52,
   "metadata": {},
   "outputs": [],
   "source": [
    "x=df_new.drop('Deaths',axis=1)   #Independent variables\n",
    "y=df_new['Deaths']    #Dependent or Target Variable"
   ]
  },
  {
   "cell_type": "code",
   "execution_count": 53,
   "metadata": {},
   "outputs": [
    {
     "data": {
      "text/html": [
       "<div>\n",
       "<style scoped>\n",
       "    .dataframe tbody tr th:only-of-type {\n",
       "        vertical-align: middle;\n",
       "    }\n",
       "\n",
       "    .dataframe tbody tr th {\n",
       "        vertical-align: top;\n",
       "    }\n",
       "\n",
       "    .dataframe thead th {\n",
       "        text-align: right;\n",
       "    }\n",
       "</style>\n",
       "<table border=\"1\" class=\"dataframe\">\n",
       "  <thead>\n",
       "    <tr style=\"text-align: right;\">\n",
       "      <th></th>\n",
       "      <th>month</th>\n",
       "      <th>day</th>\n",
       "      <th>Country</th>\n",
       "      <th>Confirmed</th>\n",
       "      <th>Recovered</th>\n",
       "      <th>Active_cases</th>\n",
       "    </tr>\n",
       "  </thead>\n",
       "  <tbody>\n",
       "    <tr>\n",
       "      <th>0</th>\n",
       "      <td>2</td>\n",
       "      <td>6</td>\n",
       "      <td>0</td>\n",
       "      <td>0.0</td>\n",
       "      <td>0.0</td>\n",
       "      <td>0.0</td>\n",
       "    </tr>\n",
       "    <tr>\n",
       "      <th>1</th>\n",
       "      <td>2</td>\n",
       "      <td>6</td>\n",
       "      <td>1</td>\n",
       "      <td>0.0</td>\n",
       "      <td>0.0</td>\n",
       "      <td>0.0</td>\n",
       "    </tr>\n",
       "    <tr>\n",
       "      <th>2</th>\n",
       "      <td>2</td>\n",
       "      <td>6</td>\n",
       "      <td>2</td>\n",
       "      <td>0.0</td>\n",
       "      <td>0.0</td>\n",
       "      <td>0.0</td>\n",
       "    </tr>\n",
       "    <tr>\n",
       "      <th>3</th>\n",
       "      <td>2</td>\n",
       "      <td>6</td>\n",
       "      <td>3</td>\n",
       "      <td>0.0</td>\n",
       "      <td>0.0</td>\n",
       "      <td>0.0</td>\n",
       "    </tr>\n",
       "    <tr>\n",
       "      <th>4</th>\n",
       "      <td>2</td>\n",
       "      <td>6</td>\n",
       "      <td>4</td>\n",
       "      <td>0.0</td>\n",
       "      <td>0.0</td>\n",
       "      <td>0.0</td>\n",
       "    </tr>\n",
       "  </tbody>\n",
       "</table>\n",
       "</div>"
      ],
      "text/plain": [
       "   month  day  Country  Confirmed  Recovered  Active_cases\n",
       "0      2    6        0        0.0        0.0           0.0\n",
       "1      2    6        1        0.0        0.0           0.0\n",
       "2      2    6        2        0.0        0.0           0.0\n",
       "3      2    6        3        0.0        0.0           0.0\n",
       "4      2    6        4        0.0        0.0           0.0"
      ]
     },
     "execution_count": 53,
     "metadata": {},
     "output_type": "execute_result"
    }
   ],
   "source": [
    "#Checking x data\n",
    "x.head()"
   ]
  },
  {
   "cell_type": "code",
   "execution_count": 54,
   "metadata": {},
   "outputs": [
    {
     "data": {
      "text/plain": [
       "0        0.000000\n",
       "1        0.000000\n",
       "2        0.000000\n",
       "3        0.000000\n",
       "4        0.000000\n",
       "           ...   \n",
       "23683    1.732051\n",
       "23684    1.000000\n",
       "23685    7.000000\n",
       "23686    2.645751\n",
       "23687    2.000000\n",
       "Name: Deaths, Length: 23174, dtype: float64"
      ]
     },
     "execution_count": 54,
     "metadata": {},
     "output_type": "execute_result"
    }
   ],
   "source": [
    "#Checking y data after splitting\n",
    "y"
   ]
  },
  {
   "cell_type": "markdown",
   "metadata": {},
   "source": [
    "# Scaling the model"
   ]
  },
  {
   "cell_type": "markdown",
   "metadata": {},
   "source": [
    "Sometimes model can be biased to higher values in dataset, so it is better to scale the dataset so that we can bring all the columns in common range. We can use StandardScaler here."
   ]
  },
  {
   "cell_type": "code",
   "execution_count": 55,
   "metadata": {},
   "outputs": [
    {
     "data": {
      "text/plain": [
       "array([[ 0.03901967,  1.49964677, -1.72031095, -0.51679959, -0.44704154,\n",
       "        -0.50118301],\n",
       "       [ 0.03901967,  1.49964677, -1.70187109, -0.51679959, -0.44704154,\n",
       "        -0.50118301],\n",
       "       [ 0.03901967,  1.49964677, -1.68343123, -0.51679959, -0.44704154,\n",
       "        -0.50118301],\n",
       "       ...,\n",
       "       [ 1.38261809,  0.99971418,  1.69106371, -0.16730333, -0.32415131,\n",
       "        -0.12350239],\n",
       "       [ 1.38261809,  0.99971418,  1.70950357,  0.15499541,  0.2652979 ,\n",
       "         0.15698354],\n",
       "       [ 1.38261809,  0.99971418,  1.72794344, -0.35105595, -0.25273503,\n",
       "        -0.35880931]])"
      ]
     },
     "execution_count": 55,
     "metadata": {},
     "output_type": "execute_result"
    }
   ],
   "source": [
    "#Scaling the dataset\n",
    "from sklearn.preprocessing import StandardScaler\n",
    "sc=StandardScaler()\n",
    "x=sc.fit_transform(x)\n",
    "x"
   ]
  },
  {
   "cell_type": "markdown",
   "metadata": {},
   "source": [
    "# Building the model"
   ]
  },
  {
   "cell_type": "code",
   "execution_count": 56,
   "metadata": {},
   "outputs": [],
   "source": [
    "#Importing required metrices and model for the dataset\n",
    "from sklearn.model_selection import train_test_split\n",
    "from sklearn.linear_model import LinearRegression\n",
    "from sklearn.model_selection import cross_val_score\n",
    "from sklearn.metrics import r2_score"
   ]
  },
  {
   "cell_type": "code",
   "execution_count": 57,
   "metadata": {},
   "outputs": [
    {
     "name": "stdout",
     "output_type": "stream",
     "text": [
      "At random state 27 ,the model performs well\n",
      "Training r2_score is:  82.97940509574609\n",
      "Testing r2_score is:  82.98042946945047\n",
      "At random state 254 ,the model performs well\n",
      "Training r2_score is:  82.97927363412192\n",
      "Testing r2_score is:  82.9785945112489\n",
      "At random state 330 ,the model performs well\n",
      "Training r2_score is:  82.96945569908493\n",
      "Testing r2_score is:  82.97281834759984\n",
      "At random state 934 ,the model performs well\n",
      "Training r2_score is:  82.97810782746802\n",
      "Testing r2_score is:  82.97957798053608\n"
     ]
    }
   ],
   "source": [
    "#Finding the best random state and accuracy\n",
    "best_rstate=0\n",
    "accuracy=0\n",
    "for i in range(0,1000):\n",
    "    x_train,x_test,y_train,y_test=train_test_split(x,y,test_size=.20,random_state=i)\n",
    "    lr=LinearRegression()\n",
    "    lr.fit(x_train,y_train)\n",
    "    pred_train=lr.predict(x_train)\n",
    "    pred_test=lr.predict(x_test)\n",
    "    if round(r2_score(y_train,pred_train)*100,2)==round(r2_score(y_test,pred_test)*100,2):\n",
    "        print('At random state',i,',the model performs well')\n",
    "        print('Training r2_score is: ',r2_score(y_train,pred_train)*100)\n",
    "        print('Testing r2_score is: ',r2_score(y_test,pred_test)*100)"
   ]
  },
  {
   "cell_type": "markdown",
   "metadata": {},
   "source": [
    "At random state=27, the training and testing r2_score is higher so that we can create the train_test_split using this random state"
   ]
  },
  {
   "cell_type": "code",
   "execution_count": 58,
   "metadata": {},
   "outputs": [],
   "source": [
    "#Creating train_test_split using best random_state\n",
    "x_train,x_test,y_train,y_test=train_test_split(x,y,random_state=27,test_size=.20)"
   ]
  },
  {
   "cell_type": "markdown",
   "metadata": {},
   "source": [
    "# Finding the best model"
   ]
  },
  {
   "cell_type": "code",
   "execution_count": 59,
   "metadata": {},
   "outputs": [],
   "source": [
    "#Importing required metrics\n",
    "from sklearn.metrics import mean_absolute_error\n",
    "from sklearn.metrics import mean_squared_error\n",
    "import numpy as np"
   ]
  },
  {
   "cell_type": "markdown",
   "metadata": {},
   "source": [
    "# Linear Regression"
   ]
  },
  {
   "cell_type": "code",
   "execution_count": 60,
   "metadata": {},
   "outputs": [
    {
     "name": "stdout",
     "output_type": "stream",
     "text": [
      "Accuracy:  82.98042946945047\n",
      "Cross Validation score:  82.7825979255096\n",
      "Difference:  0.1978315439408629\n"
     ]
    }
   ],
   "source": [
    "from sklearn.linear_model import LinearRegression\n",
    "LR=LinearRegression()\n",
    "LR.fit(x_train,y_train)\n",
    "y_pred=LR.predict(x_test)\n",
    "r2score=r2_score(y_test,y_pred)\n",
    "cvscore=cross_val_score(LinearRegression(),x_train,y_train,cv=5).mean()\n",
    "print('Accuracy: ',r2score*100)\n",
    "print('Cross Validation score: ',cvscore*100)\n",
    "print('Difference: ',(r2score-cvscore)*100)"
   ]
  },
  {
   "cell_type": "code",
   "execution_count": 61,
   "metadata": {},
   "outputs": [
    {
     "name": "stdout",
     "output_type": "stream",
     "text": [
      "For Linear Regression: \n",
      "\n",
      "Mean Squared Error:  19.06289414444428\n",
      "Root Mean Squared Error:  4.366107436200383\n"
     ]
    }
   ],
   "source": [
    "print('For Linear Regression: \\n')\n",
    "print('Mean Squared Error: ',mean_squared_error(y_test,y_pred))\n",
    "print('Root Mean Squared Error: ',np.sqrt(mean_squared_error(y_test,y_pred)))"
   ]
  },
  {
   "cell_type": "markdown",
   "metadata": {},
   "source": [
    "# Random Forest Regressor"
   ]
  },
  {
   "cell_type": "code",
   "execution_count": 62,
   "metadata": {},
   "outputs": [
    {
     "name": "stdout",
     "output_type": "stream",
     "text": [
      "Accuracy:  98.01535637077684\n",
      "Cross Validation score:  97.24919229468007\n",
      "Difference:  0.7661640760967647\n"
     ]
    }
   ],
   "source": [
    "from sklearn.ensemble import RandomForestRegressor\n",
    "RF=RandomForestRegressor()\n",
    "RF.fit(x_train,y_train)\n",
    "y_pred=RF.predict(x_test)\n",
    "r2score=r2_score(y_test,y_pred)\n",
    "cvscore=cross_val_score(RandomForestRegressor(),x_train,y_train,cv=5).mean()\n",
    "print('Accuracy: ',r2score*100)\n",
    "print('Cross Validation score: ',cvscore*100)\n",
    "print('Difference: ',(r2score-cvscore)*100)"
   ]
  },
  {
   "cell_type": "code",
   "execution_count": 63,
   "metadata": {},
   "outputs": [
    {
     "name": "stdout",
     "output_type": "stream",
     "text": [
      "For Random Forest Regressor: \n",
      "\n",
      "Mean Squared Error:  2.222914576511655\n",
      "Root Mean Squared Error:  1.4909441896032376\n"
     ]
    }
   ],
   "source": [
    "print('For Random Forest Regressor: \\n')\n",
    "print('Mean Squared Error: ',mean_squared_error(y_test,y_pred))\n",
    "print('Root Mean Squared Error: ',np.sqrt(mean_squared_error(y_test,y_pred)))"
   ]
  },
  {
   "cell_type": "markdown",
   "metadata": {},
   "source": [
    "# Support Vector Regressor"
   ]
  },
  {
   "cell_type": "code",
   "execution_count": 64,
   "metadata": {},
   "outputs": [
    {
     "name": "stdout",
     "output_type": "stream",
     "text": [
      "Accuracy:  78.03238559460576\n",
      "Cross Validation score:  77.49245549421637\n",
      "Difference:  0.5399301003893853\n"
     ]
    }
   ],
   "source": [
    "from sklearn.svm import SVR\n",
    "svr=SVR()\n",
    "svr.fit(x_train,y_train)\n",
    "y_pred=svr.predict(x_test)\n",
    "r2score=r2_score(y_test,y_pred)\n",
    "cvscore=cross_val_score(SVR(),x_train,y_train,cv=5).mean()\n",
    "print('Accuracy: ',r2score*100)\n",
    "print('Cross Validation score: ',cvscore*100)\n",
    "print('Difference: ',(r2score-cvscore)*100)"
   ]
  },
  {
   "cell_type": "code",
   "execution_count": 65,
   "metadata": {},
   "outputs": [
    {
     "name": "stdout",
     "output_type": "stream",
     "text": [
      "For Support Vector Regressor: \n",
      "\n",
      "Mean Squared Error:  24.604986786495513\n",
      "Root Mean Squared Error:  4.960341398179717\n"
     ]
    }
   ],
   "source": [
    "print('For Support Vector Regressor: \\n')\n",
    "print('Mean Squared Error: ',mean_squared_error(y_test,y_pred))\n",
    "print('Root Mean Squared Error: ',np.sqrt(mean_squared_error(y_test,y_pred)))"
   ]
  },
  {
   "cell_type": "markdown",
   "metadata": {},
   "source": [
    "# KNeighbors Regressor"
   ]
  },
  {
   "cell_type": "code",
   "execution_count": 66,
   "metadata": {},
   "outputs": [],
   "source": [
    "#lets apply regression to datasets\n",
    "from sklearn.metrics import mean_absolute_error,mean_squared_error,r2_score\n",
    "from sklearn.model_selection import train_test_split\n",
    "def maxr2_score(regr,x,y): #Def is used such that we can call it later\n",
    "    max_r_score=0\n",
    "    for r_state in range(42,100):\n",
    "        x_train,x_test,y_train,y_test=train_test_split(x,y,random_state=r_state,test_size=0.20)\n",
    "        regr.fit(x_train,y_train)\n",
    "        y_pred=regr.predict(x_test)\n",
    "        r2_scr=r2_score(y_test,y_pred)\n",
    "        if r2_scr>max_r_score:\n",
    "            max_r_score=r2_scr\n",
    "            final_r_state=r_state\n",
    "    print()\n",
    "    print('Accuracy correponding to best random state',final_r_state,'is',max_r_score*100)\n",
    "    return final_r_state"
   ]
  },
  {
   "cell_type": "code",
   "execution_count": 67,
   "metadata": {},
   "outputs": [
    {
     "data": {
      "text/plain": [
       "{'n_neighbors': 29}"
      ]
     },
     "execution_count": 67,
     "metadata": {},
     "output_type": "execute_result"
    }
   ],
   "source": [
    "#Hyperparameter Tuning using GridSearCV for KNN\n",
    "from sklearn.model_selection import GridSearchCV\n",
    "from sklearn.neighbors import KNeighborsRegressor\n",
    "neighbors={'n_neighbors':range(1,30)}\n",
    "knr=KNeighborsRegressor()\n",
    "gknr=GridSearchCV(knr,neighbors,cv=10)\n",
    "gknr.fit(x,y)\n",
    "gknr.best_params_"
   ]
  },
  {
   "cell_type": "code",
   "execution_count": 68,
   "metadata": {},
   "outputs": [
    {
     "name": "stdout",
     "output_type": "stream",
     "text": [
      "\n",
      "Accuracy correponding to best random state 86 is 87.0266614338581\n"
     ]
    }
   ],
   "source": [
    "knr=KNeighborsRegressor(n_neighbors=29)   #Using the best parameter\n",
    "r_state=maxr2_score(knr,x,y)"
   ]
  },
  {
   "cell_type": "code",
   "execution_count": 69,
   "metadata": {},
   "outputs": [
    {
     "name": "stdout",
     "output_type": "stream",
     "text": [
      "Cross Validation score:  83.12340540873434\n"
     ]
    }
   ],
   "source": [
    "#Finding cross validation value\n",
    "cvscore=cross_val_score(knr,x_train,y_train,cv=5).mean()\n",
    "print('Cross Validation score: ',cvscore*100)"
   ]
  },
  {
   "cell_type": "code",
   "execution_count": 70,
   "metadata": {},
   "outputs": [
    {
     "name": "stdout",
     "output_type": "stream",
     "text": [
      "For KNeighbors Regressor: \n",
      "\n",
      "Mean Squared Error:  24.604986786495513\n",
      "Root Mean Squared Error:  4.960341398179717\n"
     ]
    }
   ],
   "source": [
    "print('For KNeighbors Regressor: \\n')\n",
    "print('Mean Squared Error: ',mean_squared_error(y_test,y_pred))\n",
    "print('Root Mean Squared Error: ',np.sqrt(mean_squared_error(y_test,y_pred)))"
   ]
  },
  {
   "cell_type": "markdown",
   "metadata": {},
   "source": [
    "From the above 4 algorithms used, we can see that Random Forest Regressor is performing well by giving an accuracy score of 98.07 and cross validation score of 97.22. "
   ]
  },
  {
   "cell_type": "markdown",
   "metadata": {},
   "source": [
    "# Regularization"
   ]
  },
  {
   "cell_type": "markdown",
   "metadata": {},
   "source": [
    "# 1. Lasso"
   ]
  },
  {
   "cell_type": "code",
   "execution_count": 71,
   "metadata": {},
   "outputs": [
    {
     "name": "stdout",
     "output_type": "stream",
     "text": [
      "{'alpha': 0.0001, 'random_state': 0}\n"
     ]
    }
   ],
   "source": [
    "from sklearn.linear_model import Lasso\n",
    "parameters={'alpha':[.0001,.001,.01,.1,1,10],'random_state':list(range(0,10))}\n",
    "ls=Lasso()\n",
    "clf=GridSearchCV(ls,parameters)\n",
    "clf.fit(x_train,y_train)\n",
    "print(clf.best_params_)"
   ]
  },
  {
   "cell_type": "code",
   "execution_count": 72,
   "metadata": {},
   "outputs": [],
   "source": [
    "x_train,x_test,y_train,y_test=train_test_split(x,y,random_state=45,test_size=.20)"
   ]
  },
  {
   "cell_type": "code",
   "execution_count": 73,
   "metadata": {},
   "outputs": [
    {
     "name": "stdout",
     "output_type": "stream",
     "text": [
      "At cv:  2\n",
      "Cross validation score is:  67.53362674650393\n",
      "r2_score is:  83.4568454735345\n",
      "\n",
      "\n",
      "At cv:  3\n",
      "Cross validation score is:  68.70897803549786\n",
      "r2_score is:  83.4568454735345\n",
      "\n",
      "\n",
      "At cv:  4\n",
      "Cross validation score is:  71.86898042380095\n",
      "r2_score is:  83.4568454735345\n",
      "\n",
      "\n",
      "At cv:  5\n",
      "Cross validation score is:  73.7532517699713\n",
      "r2_score is:  83.4568454735345\n",
      "\n",
      "\n",
      "At cv:  6\n",
      "Cross validation score is:  72.03219593057945\n",
      "r2_score is:  83.4568454735345\n",
      "\n",
      "\n",
      "At cv:  7\n",
      "Cross validation score is:  71.21593177932127\n",
      "r2_score is:  83.4568454735345\n",
      "\n",
      "\n",
      "At cv:  8\n",
      "Cross validation score is:  70.67737874728459\n",
      "r2_score is:  83.4568454735345\n",
      "\n",
      "\n",
      "At cv:  9\n",
      "Cross validation score is:  68.43829415972242\n",
      "r2_score is:  83.4568454735345\n",
      "\n",
      "\n"
     ]
    }
   ],
   "source": [
    "ls=Lasso(alpha=0.0001,random_state=0)   #Using best alpha and best random state value\n",
    "ls.fit(x_train,y_train)\n",
    "ls.score(x_train,y_train)\n",
    "pred_ls=ls.predict(x_test)\n",
    "\n",
    "lss=r2_score(y_test,pred_ls)\n",
    "for j in range(2,10):\n",
    "    lsscore=cross_val_score(ls,x,y,cv=j)\n",
    "    lsc=lsscore.mean()\n",
    "    print('At cv: ',j)\n",
    "    print('Cross validation score is: ',lsc*100)\n",
    "    print('r2_score is: ',lss*100)\n",
    "    print('\\n')"
   ]
  },
  {
   "cell_type": "markdown",
   "metadata": {},
   "source": [
    "At cv=5, we are getting the best cross validation score among all and after cv=3 we can see that cross validation score keeps on decreasing. The value of r2_score is same for all"
   ]
  },
  {
   "cell_type": "code",
   "execution_count": 74,
   "metadata": {},
   "outputs": [
    {
     "data": {
      "image/png": "[encoded data removed]",
      "text/plain": [
       "<Figure size 576x432 with 1 Axes>"
      ]
     },
     "metadata": {
      "needs_background": "light"
     },
     "output_type": "display_data"
    }
   ],
   "source": [
    "#Plotting for Lasso\n",
    "plt.figure(figsize=(8,6))\n",
    "plt.scatter(x=y_test,y=pred_ls,color='r')\n",
    "plt.plot(y_test,y_test,color='b')\n",
    "plt.title('Lasso Regression',fontsize=18)\n",
    "plt.xlabel('Actual Compressive strength',fontsize=14)\n",
    "plt.ylabel('Predicted Compressive strength',fontsize=14)\n",
    "plt.show()"
   ]
  },
  {
   "cell_type": "markdown",
   "metadata": {},
   "source": [
    "We can see that nearly all the data points are near the best fit line or on the best fit line"
   ]
  },
  {
   "cell_type": "markdown",
   "metadata": {},
   "source": [
    "# Calculating MAE,MSE and RMSE for Lasso"
   ]
  },
  {
   "cell_type": "code",
   "execution_count": 75,
   "metadata": {},
   "outputs": [],
   "source": [
    "from sklearn.metrics import mean_absolute_error\n",
    "from sklearn.metrics import mean_squared_error"
   ]
  },
  {
   "cell_type": "code",
   "execution_count": 76,
   "metadata": {},
   "outputs": [
    {
     "name": "stdout",
     "output_type": "stream",
     "text": [
      "Mean Absolute Error:  1.9543735178612902\n",
      "Mean Squared Error:  16.355442547856388\n",
      "Root Mean Squared Error:  4.044186265227702\n"
     ]
    }
   ],
   "source": [
    "print('Mean Absolute Error: ',mean_absolute_error(y_test,pred_ls))\n",
    "print('Mean Squared Error: ',mean_squared_error(y_test,pred_ls))\n",
    "print('Root Mean Squared Error: ',np.sqrt(mean_squared_error(y_test,pred_ls)))"
   ]
  },
  {
   "cell_type": "markdown",
   "metadata": {},
   "source": [
    "# 2. Ridge"
   ]
  },
  {
   "cell_type": "code",
   "execution_count": 77,
   "metadata": {},
   "outputs": [
    {
     "name": "stdout",
     "output_type": "stream",
     "text": [
      "{'alpha': 0.1, 'copy_X': True, 'fit_intercept': True, 'normalize': False, 'random_state': 0, 'tol': 0.0001}\n"
     ]
    }
   ],
   "source": [
    "from sklearn.linear_model import Ridge\n",
    "parameters={'alpha':[.0001,.001,.01,.1,1],'fit_intercept':[True,False],'normalize':[True,False],'copy_X':[True,False],'tol':[.0001,.001,.01,.1,1],'random_state':list(range(0,10))}\n",
    "rd=Ridge()\n",
    "clf=GridSearchCV(rd,parameters)\n",
    "clf.fit(x_train,y_train)\n",
    "print(clf.best_params_)"
   ]
  },
  {
   "cell_type": "code",
   "execution_count": 78,
   "metadata": {},
   "outputs": [
    {
     "name": "stdout",
     "output_type": "stream",
     "text": [
      "r2_score:  83.45536001094732\n",
      "Cross val score:  64.74510690228715\n"
     ]
    }
   ],
   "source": [
    "#Using the best parameters in rd\n",
    "rd=Ridge(alpha=0.1,copy_X=True,fit_intercept=True,normalize=False,random_state=0,tol=0.0001)\n",
    "rd.fit(x_train,y_train)\n",
    "rd.score(x_train,y_train)\n",
    "pred_rd=rd.predict(x_test)\n",
    "\n",
    "rds=r2_score(y_test,pred_rd)\n",
    "print('r2_score: ',rds*100)\n",
    "\n",
    "rdscore=cross_val_score(rd,x,y,cv=3)\n",
    "rdc=rdscore.mean()\n",
    "print('Cross val score: ',rdc*100)"
   ]
  },
  {
   "cell_type": "code",
   "execution_count": 79,
   "metadata": {},
   "outputs": [
    {
     "data": {
      "image/png": "[encoded data removed]",
      "text/plain": [
       "<Figure size 576x432 with 1 Axes>"
      ]
     },
     "metadata": {
      "needs_background": "light"
     },
     "output_type": "display_data"
    }
   ],
   "source": [
    "#Plotting for Ridge\n",
    "plt.figure(figsize=(8,6))\n",
    "plt.scatter(x=y_test,y=pred_rd,color='r')\n",
    "plt.plot(y_test,y_test,color='b')\n",
    "plt.title('Ridge Regression',fontsize=18)\n",
    "plt.xlabel('Actual Compressive strength',fontsize=14)\n",
    "plt.ylabel('Predicted Compressive strength',fontsize=14)\n",
    "plt.show()"
   ]
  },
  {
   "cell_type": "markdown",
   "metadata": {},
   "source": [
    "# Calculating MAE, MSE and RMSE for Ridge"
   ]
  },
  {
   "cell_type": "code",
   "execution_count": 80,
   "metadata": {},
   "outputs": [
    {
     "name": "stdout",
     "output_type": "stream",
     "text": [
      "Mean Absolute Error:  1.954620031105879\n",
      "Mean Squared Error:  16.356911155186562\n",
      "Root Mean Squared Error:  4.044367831341082\n"
     ]
    }
   ],
   "source": [
    "print('Mean Absolute Error: ',mean_absolute_error(y_test,pred_rd))\n",
    "print('Mean Squared Error: ',mean_squared_error(y_test,pred_rd))\n",
    "print('Root Mean Squared Error: ',np.sqrt(mean_squared_error(y_test,pred_rd)))"
   ]
  },
  {
   "cell_type": "markdown",
   "metadata": {},
   "source": [
    "# Conclusion"
   ]
  },
  {
   "cell_type": "markdown",
   "metadata": {},
   "source": [
    "The given dataset is good enough to predict the deaths occured from the given datas. Out of all algorithms used, the best performing model is Random Forest Regressor model with accuracy = 98.07 and cross validation score = 97.22\n",
    "\n",
    "In L1 and L2 regularization, nearly all of the data points are either on the best fit line or near to the best fit line, which is good enough to say that the given dataset is good for prediction"
   ]
  },
  {
   "cell_type": "markdown",
   "metadata": {},
   "source": [
    "# Serialization"
   ]
  },
  {
   "cell_type": "code",
   "execution_count": 81,
   "metadata": {},
   "outputs": [
    {
     "data": {
      "text/plain": [
       "['Covid19Project.pkl']"
      ]
     },
     "execution_count": 81,
     "metadata": {},
     "output_type": "execute_result"
    }
   ],
   "source": [
    "import joblib\n",
    "joblib.dump(RF,'Covid19Project.pkl')"
   ]
  }
 ],
 "metadata": {
  "kernelspec": {
   "display_name": "Python 3 (ipykernel)",
   "language": "python",
   "name": "python3"
  },
  "language_info": {
   "codemirror_mode": {
    "name": "ipython",
    "version": 3
   },
   "file_extension": ".py",
   "mimetype": "text/x-python",
   "name": "python",
   "nbconvert_exporter": "python",
   "pygments_lexer": "ipython3",
   "version": "3.9.7"
  }
 },
 "nbformat": 4,
 "nbformat_minor": 4
}
